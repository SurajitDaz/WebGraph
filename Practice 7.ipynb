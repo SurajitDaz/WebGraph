{
 "cells": [
  {
   "cell_type": "markdown",
   "metadata": {},
   "source": [
    "## Problem 1. PageRank cheat in the Buckley - Ostgus model\n",
    "\n",
    "Link farm is the construction presented in the figure. Show how the number of nodes in the farm influence the node  $v$'s position in ranking by PageRank.\n",
    "\n",
    "<img src=\"farm.png\"> \n"
   ]
  },
  {
   "cell_type": "code",
   "execution_count": null,
   "metadata": {},
   "outputs": [],
   "source": [
    "import networkx as nx\n",
    "import random\n",
    "import numpy as np\n",
    "import matplotlib.pyplot as plt"
   ]
  },
  {
   "cell_type": "code",
   "execution_count": null,
   "metadata": {},
   "outputs": [],
   "source": [
    "def generateSimpleBuckleyOsthusGraph(a,n):\n",
    "    G = nx.MultiDiGraph()\n",
    "    G.add_node(0)\n",
    "    G.add_edge(0,0)\n",
    "    p = [a+1]\n",
    "    while G.number_of_nodes() < n:\n",
    "        new_node = G.number_of_nodes()\n",
    "        G.add_node(new_node)\n",
    "        p.append(a)\n",
    "        probabilities = np.array(p)/((a+1.0)*new_node+a)\n",
    "        destination = np.random.choice(G.nodes(),1,p=probabilities)[0]\n",
    "        G.add_edge(new_node,destination)\n",
    "        p[destination] += 1\n",
    "    return G\n",
    "\n",
    "\n",
    "def generateBuckleyOsthusGraph(a, n, m):\n",
    "    G1mn = generateSimpleBuckleyOsthusGraph(a, m*n)\n",
    "    G = nx.MultiDiGraph()\n",
    "    for u, v in G1mn.edges():\n",
    "        u_new, v_new = u // m, v // m\n",
    "        G.add_edge(u_new, v_new)\n",
    "    return G"
   ]
  },
  {
   "cell_type": "code",
   "execution_count": null,
   "metadata": {},
   "outputs": [],
   "source": [
    "a = 0.27\n",
    "n = 1000\n",
    "m = 5\n",
    "G = generateBuckleyOsthusGraph(a, n, m)\n",
    "G = nx.DiGraph(G)"
   ]
  },
  {
   "cell_type": "code",
   "execution_count": null,
   "metadata": {},
   "outputs": [],
   "source": [
    "G.number_of_nodes()"
   ]
  },
  {
   "cell_type": "code",
   "execution_count": null,
   "metadata": {},
   "outputs": [],
   "source": [
    "G.number_of_edges()"
   ]
  },
  {
   "cell_type": "code",
   "execution_count": null,
   "metadata": {},
   "outputs": [],
   "source": [
    "pr = nx.pagerank(G, alpha = 0.85)\n",
    "pr_sorted = sorted(pr.items(), key = lambda x:x[1], reverse=True)\n",
    "pr_sorted"
   ]
  },
  {
   "cell_type": "code",
   "execution_count": null,
   "metadata": {},
   "outputs": [],
   "source": [
    "ranks_to_nodes = {rank: pr_sorted[rank][0] for rank in range(len(pr_sorted)) }\n",
    "ranks_to_nodes"
   ]
  },
  {
   "cell_type": "code",
   "execution_count": null,
   "metadata": {},
   "outputs": [],
   "source": [
    "nodes_to_ranks = {v:k for k,v in ranks_to_nodes.items()}"
   ]
  },
  {
   "cell_type": "code",
   "execution_count": null,
   "metadata": {},
   "outputs": [],
   "source": [
    "nodes_to_ranks[800]"
   ]
  },
  {
   "cell_type": "code",
   "execution_count": null,
   "metadata": {},
   "outputs": [],
   "source": [
    "G_new = G.copy()\n",
    "k = 10\n",
    "node_v = 800\n",
    "for i in range(k):\n",
    "    G_new.add_edge(f'v{i}',node_v)\n",
    "    G_new.add_edge(node_v,f'v{i}')"
   ]
  },
  {
   "cell_type": "code",
   "execution_count": null,
   "metadata": {},
   "outputs": [],
   "source": [
    "G_new.number_of_nodes()"
   ]
  },
  {
   "cell_type": "code",
   "execution_count": null,
   "metadata": {},
   "outputs": [],
   "source": [
    "pr_new = nx.pagerank(G_new, alpha = 0.85)\n",
    "pr_sorted_new = sorted(pr_new.items(), key = lambda x:x[1], reverse=True)\n",
    "ranks_to_nodes_new = {rank: pr_sorted_new[rank][0] for rank in range(len(pr_sorted_new)) }\n",
    "nodes_to_ranks_new = {v:k for k,v in ranks_to_nodes_new.items()}\n",
    "nodes_to_ranks_new[800]"
   ]
  },
  {
   "cell_type": "markdown",
   "metadata": {},
   "source": [
    "## Problem 2. PageRank in the Avrachenkov model\n",
    "\n",
    "Implement generation of the random graph in the Avrachenkov's concretization of the Barabasi - Albert model.\n",
    "\n",
    "At each time point we add one node and  $m$ edges.\n",
    "\n",
    "We start from node 0 without edges, but with weight equal to $m$. \n",
    "\n",
    "Node 1 makes $m$ links to 0. Weight of the node 0 becomes equal to $2m$, node 1 weight is now $m$.\n",
    "\n",
    "The next nodes make $m$ links independently, each with probability proportional to the nodes weights (= sum of their incoming links and the initial weight $m$):\n",
    "$$\n",
    "P(n+1\\to i)=\\frac{\\mathrm{indeg}\\,i + m}{\\sum\\limits_{k=0}^n(\\mathrm{indeg}\\,k + m)}=\\frac{\\mathrm{indeg}\\,i + m}{2mn + m}.\n",
    "$$\n",
    "\n",
    "Using the Avrachenkov's theorem, for the fixed $n$ plot the estimate for the cumulative PageRank distribution function $P(\\pi_v > x)$. \n",
    "\n",
    "Build the graph on  $n=1000$ nodes and with $m=5$. Plot the theoretical estimate and numerical results for the PageRank distribution with $\\alpha=0.85$."
   ]
  },
  {
   "cell_type": "code",
   "execution_count": null,
   "metadata": {},
   "outputs": [],
   "source": [
    "import networkx as nx\n",
    "import matplotlib.pyplot as plt\n",
    "import pylab"
   ]
  },
  {
   "cell_type": "code",
   "execution_count": null,
   "metadata": {},
   "outputs": [],
   "source": [
    "import random\n",
    "\n",
    "def generateGraph(n, m):\n",
    "    G = nx.MultiDiGraph()\n",
    "    G.add_node(0)\n",
    "    G.add_node(1)\n",
    "    for x in range(m):\n",
    "        G.add_edge(1, 0)\n",
    "    repeated_nodes = [0] * (2 * m) + [1] * m\n",
    "    while G.number_of_nodes() <= n:\n",
    "        new_node = G.number_of_nodes()\n",
    "        G.add_node(new_node)\n",
    "        dests = []\n",
    "        for x in range(m):\n",
    "            destination = random.choice(repeated_nodes)\n",
    "            G.add_edge(new_node, destination)\n",
    "            dests.append(destination)\n",
    "        repeated_nodes.extend(dests)\n",
    "        repeated_nodes.extend([new_node] * m)\n",
    "    return G"
   ]
  },
  {
   "cell_type": "code",
   "execution_count": null,
   "metadata": {},
   "outputs": [],
   "source": [
    "N = 1000\n",
    "m = 5\n",
    "G = generateGraph(N, m)\n",
    "# we add (0, 0) not to count nodes with zero outdegrees\n",
    "G.add_edge(0, 0)"
   ]
  },
  {
   "cell_type": "markdown",
   "metadata": {},
   "source": [
    "we use pagerank_scipy, as this implementation works with Multi(Di)Graphs. For multigraphs the weight between two nodes is set to be the sum of all edge weights between those nodes."
   ]
  },
  {
   "cell_type": "code",
   "execution_count": null,
   "metadata": {},
   "outputs": [],
   "source": [
    "alpha = 0.85\n",
    "P = nx.pagerank_scipy(G, alpha)"
   ]
  },
  {
   "cell_type": "code",
   "execution_count": null,
   "metadata": {},
   "outputs": [],
   "source": [
    "pagerank_distr = []\n",
    "xs = []\n",
    "for x in sorted(P.values()):\n",
    "    xs.append(x)\n",
    "    pagerank_distr.append(len([v for v in G.nodes() if P[v] >= x]) / float(N))"
   ]
  },
  {
   "cell_type": "markdown",
   "metadata": {},
   "source": [
    "According to the Avrachenkov's theorem when $ i > 0 $ the expected value of node $i$'s PageRank is calculated as follows:\n",
    "$$\n",
    "{\\bf E}\\pi_i(n) \n",
    "\\approx \\frac{1-\\alpha}{1+n}\\left(\\frac{1}{1+\\alpha} + \\frac{\\alpha}{1+\\alpha}\\left(i+\\frac{1}{2}\\right)^{-\\frac{1+\\alpha}{2}} \\left(n+\\frac{1}{2}\\right)^{\\frac{1+\\alpha}{2}}\\right).\n",
    "$$\n",
    "\n",
    "When $n$ is fixed: ${\\bf E}\\pi_i=f(i)$, where $f(i)$ is decreasing function. Therefore,\n",
    "\\begin{equation*}\n",
    "\\begin{split}\n",
    "\\textbf{P}(\\pi_i<x)&=\\textbf{P}(i>f^{-1}(x))\\approx\\textbf{P}\\left(i>\\left(\\left(\\frac{1+n}{1-\\alpha}x-\\frac{1}{1+\\alpha}\\right)\\frac{1+\\alpha}{\\alpha}\\left(n+\\frac{1}{2}\\right)^{-\\frac{1+\\alpha}{2}}\\right)^{\\frac{-2}{1+\\alpha}}-\\frac12\\right)=\\\\\n",
    "&=1-\\frac{1}{n}\\cdot\\left(\\left(\\left(\\frac{1+n}{1-\\alpha}x-\\frac{1}{1+\\alpha}\\right)\\frac{1+\\alpha}{\\alpha}\\left(n+\\frac{1}{2}\\right)^{-\\frac{1+\\alpha}{2}}\\right)^{\\frac{-2}{1+\\alpha}}-\\frac12\\right)=\\\\\n",
    "&=1+\\frac{1}{2n}-\\left(1+\\frac{1}{2n}\\right)\\alpha^{\\frac{2}{\\alpha+1}}\\left(\\frac{1+\\alpha}{1-\\alpha}(n+1)x-1\\right)^{\\frac{-2}{1+\\alpha}}.\n",
    "\\end{split}\n",
    "\\end{equation*}\n",
    "\n",
    "Let us note that $\\textbf{P}(\\pi_i>=x)=1-\\textbf{P}(\\pi_i<x)$. "
   ]
  },
  {
   "cell_type": "code",
   "execution_count": null,
   "metadata": {},
   "outputs": [],
   "source": [
    "theoretical_est = []\n",
    "xs2 = []\n",
    "for x in np.arange(min(P.values()), max(P.values()), 0.001):\n",
    "    val = (1 + 1 / (2 * N)) * alpha ** (2 / (alpha + 1))\n",
    "    val *= ((N + 1) * (1 + alpha) * x / (1 - alpha) - 1) ** (-2 / (alpha + 1))\n",
    "    val = 1 + 1 / (2 * N) - val\n",
    "    xs2.append(x)\n",
    "    theoretical_est.append(1 - val)"
   ]
  },
  {
   "cell_type": "code",
   "execution_count": null,
   "metadata": {},
   "outputs": [],
   "source": [
    "import matplotlib.pyplot as plt\n",
    "\n",
    "pylab.rcParams['figure.figsize'] = 10, 10\n",
    "plt.loglog(xs, pagerank_distr, c='r', marker='+', ls='None', markersize=8)\n",
    "plt.loglog(xs2, theoretical_est)\n",
    "plt.show()"
   ]
  },
  {
   "cell_type": "markdown",
   "metadata": {},
   "source": [
    "## Problem 3. Bollobas - Borgs - Riordan -Chayes model"
   ]
  },
  {
   "cell_type": "code",
   "execution_count": null,
   "metadata": {},
   "outputs": [],
   "source": [
    "def GenerateBBRCGraph(delta_out, delta_in, alpha, beta, gamma, time):\n",
    "    G = nx.MultiDiGraph()\n",
    "    G.add_edge(0,0)\n",
    "    \n",
    "    for t in range(1,time):\n",
    "        event = random.choices([\"node_and_outedge\",\"node_and_inedge\",\"new_edge\"],\n",
    "                               weights = [alpha,gamma,beta])[0]\n",
    "        \n",
    "        if event == \"node_and_outedge\":\n",
    "            new_node = G.number_of_nodes()\n",
    "            in_degrees = dict(G.in_degree)\n",
    "            weights = [in_deg + delta_in for in_deg in in_degrees.values()]\n",
    "            dest = random.choices(range(G.number_of_nodes()), weights = weights)[0]\n",
    "            G.add_edge(new_node, dest)\n",
    "        \n",
    "        if event == \"node_and_inedge\":\n",
    "            new_node = G.number_of_nodes()\n",
    "            out_degrees = dict(G.out_degree)\n",
    "            weights = [out_deg + delta_out for out_deg in out_degrees.values()]\n",
    "            dest = random.choices(range(G.number_of_nodes()), weights = weights)[0]\n",
    "            G.add_edge(dest,new_node)\n",
    "        \n",
    "        if event == \"new_edge\":\n",
    "            in_degrees = dict(G.in_degree)\n",
    "            in_weights = [in_deg + delta_in for in_deg in in_degrees.values()]\n",
    "            in_dest = random.choices(range(G.number_of_nodes()), weights = in_weights)[0]\n",
    "            \n",
    "            out_degrees = dict(G.out_degree)\n",
    "            out_weights = [out_deg + delta_out for out_deg in out_degrees.values()]\n",
    "            out_dest = random.choices(range(G.number_of_nodes()), weights = out_weights)[0]\n",
    "            \n",
    "            G.add_edge(out_dest, in_dest)\n",
    "    return G"
   ]
  },
  {
   "cell_type": "code",
   "execution_count": null,
   "metadata": {},
   "outputs": [],
   "source": [
    "delta_out = 0.3 \n",
    "delta_in = 0.3\n",
    "beta = 0.9\n",
    "alpha, gamma = (1 - beta) / 2, (1 - beta) / 2\n",
    "time = 1000"
   ]
  },
  {
   "cell_type": "code",
   "execution_count": null,
   "metadata": {},
   "outputs": [],
   "source": [
    "G = GenerateBBRCGraph (delta_out, delta_in, alpha, beta, gamma, time)"
   ]
  },
  {
   "cell_type": "code",
   "execution_count": null,
   "metadata": {},
   "outputs": [],
   "source": [
    "G.number_of_nodes()"
   ]
  },
  {
   "cell_type": "code",
   "execution_count": null,
   "metadata": {},
   "outputs": [],
   "source": [
    "G.number_of_edges()"
   ]
  },
  {
   "cell_type": "code",
   "execution_count": null,
   "metadata": {},
   "outputs": [],
   "source": [
    "densities = []\n",
    "betas = [x/10 for x in range(1,10)]\n",
    "for beta in betas:\n",
    "    alpha, gamma = (1 - beta) / 2, (1 - beta) / 2\n",
    "    G = GenerateBBRCGraph (delta_out, delta_in, alpha, beta, gamma, time)\n",
    "    dens = G.number_of_edges() / G.number_of_nodes()\n",
    "    densities.append(dens)"
   ]
  },
  {
   "cell_type": "code",
   "execution_count": null,
   "metadata": {},
   "outputs": [],
   "source": [
    "plt.plot(betas, densities)"
   ]
  },
  {
   "cell_type": "code",
   "execution_count": null,
   "metadata": {},
   "outputs": [],
   "source": [
    "beta = 0.3\n",
    "alpha, gamma = (1 - beta) / 2, (1 - beta) / 2\n",
    "time = 5000\n",
    "G = GenerateBBRCGraph (delta_out, delta_in, alpha, beta, gamma, time)"
   ]
  },
  {
   "cell_type": "code",
   "execution_count": null,
   "metadata": {},
   "outputs": [],
   "source": [
    "from collections import Counter\n",
    "in_degrees = dict(G.in_degree)\n",
    "in_degrees_counts = Counter(list(in_degrees.values()))"
   ]
  },
  {
   "cell_type": "code",
   "execution_count": null,
   "metadata": {},
   "outputs": [],
   "source": [
    "plt.loglog(list(in_degrees_counts.keys()), list(in_degrees_counts.values()), ls='None', marker='.')\n",
    "plt.xlabel('In-degree')\n",
    "plt.ylabel('Counts')\n",
    "plt.title('In-degree distribution')"
   ]
  },
  {
   "cell_type": "code",
   "execution_count": null,
   "metadata": {},
   "outputs": [],
   "source": [
    "out_degrees = dict(G.out_degree)\n",
    "out_degrees_counts = Counter(list(out_degrees.values()))"
   ]
  },
  {
   "cell_type": "code",
   "execution_count": null,
   "metadata": {},
   "outputs": [],
   "source": [
    "plt.loglog(list(out_degrees_counts.keys()), list(out_degrees_counts.values()), ls='None', marker='.')\n",
    "plt.xlabel('Out-degree')\n",
    "plt.ylabel('Counts')\n",
    "plt.title('Out-degree distribution')"
   ]
  },
  {
   "cell_type": "code",
   "execution_count": null,
   "metadata": {},
   "outputs": [],
   "source": [
    "from scipy.optimize import curve_fit\n",
    "import numpy as np\n",
    "\n",
    "def power_law(d, c, gamma):\n",
    "    return c / (d ** gamma)\n",
    "\n",
    "degrees_list = list(in_degrees_counts.keys())\n",
    "counts_list = list(in_degrees_counts.values())\n",
    "\n",
    "h1, h2 = 8, 100\n",
    "\n",
    "xdata = np.array([x for x in degrees_list if x <= h2 and x>= h1])\n",
    "ydata = np.array([counts_list[i] for i in range(len(counts_list)) \n",
    "                  if degrees_list[i] >= h1 and degrees_list[i] <= h2])\n",
    "popt, pcov = curve_fit(power_law, xdata, ydata)\n",
    "c, gamma = popt"
   ]
  },
  {
   "cell_type": "code",
   "execution_count": null,
   "metadata": {},
   "outputs": [],
   "source": [
    "gamma"
   ]
  },
  {
   "cell_type": "code",
   "execution_count": null,
   "metadata": {},
   "outputs": [],
   "source": [
    "plt.loglog(list(in_degrees_counts.keys()), list(in_degrees_counts.values()), ls='None', marker='.')\n",
    "estimated = [power_law(x, c, gamma) for x in degrees_list]\n",
    "plt.loglog(degrees_list, estimated, ls = '--', color = 'r')\n",
    "plt.xlabel('In-degree')\n",
    "plt.ylabel('Counts')\n",
    "plt.title('In-degree distribution')"
   ]
  },
  {
   "cell_type": "code",
   "execution_count": null,
   "metadata": {},
   "outputs": [],
   "source": [
    "degrees_list = list(out_degrees_counts.keys())\n",
    "counts_list = list(out_degrees_counts.values())\n",
    "\n",
    "h1, h2 = 8, 100\n",
    "\n",
    "xdata = np.array([x for x in degrees_list if x <= h2 and x>= h1])\n",
    "ydata = np.array([counts_list[i] for i in range(len(counts_list)) \n",
    "                  if degrees_list[i] >= h1 and degrees_list[i] <= h2])\n",
    "popt, pcov = curve_fit(power_law, xdata, ydata)\n",
    "c, gamma = popt"
   ]
  },
  {
   "cell_type": "code",
   "execution_count": null,
   "metadata": {},
   "outputs": [],
   "source": [
    "gamma"
   ]
  },
  {
   "cell_type": "code",
   "execution_count": null,
   "metadata": {},
   "outputs": [],
   "source": [
    "plt.loglog(list(out_degrees_counts.keys()), list(out_degrees_counts.values()), ls='None', marker='.')\n",
    "estimated = [power_law(x, c, gamma) for x in degrees_list]\n",
    "plt.loglog(degrees_list, estimated, ls = '--', color = 'r')\n",
    "plt.xlabel('Out-degree')\n",
    "plt.ylabel('Counts')\n",
    "plt.title('Out-degree distribution')"
   ]
  },
  {
   "cell_type": "code",
   "execution_count": null,
   "metadata": {},
   "outputs": [],
   "source": [
    "n = len(G.nodes)\n",
    "n_edges = len(G.edges)\n",
    "print(f'number of nodes = {n}')\n",
    "print(f'number of edges = {n_edges}')"
   ]
  },
  {
   "cell_type": "code",
   "execution_count": null,
   "metadata": {},
   "outputs": [],
   "source": [
    "wcc_list = list(nx.weakly_connected_components(G))\n",
    "wcc_list = sorted(wcc_list, key = len, reverse=True)\n",
    "\n",
    "print(f'number of weakly connected componets = {len(wcc_list)}')\n",
    "print(f'size of GWCC = {len(wcc_list[0])/len(G.nodes)}')"
   ]
  },
  {
   "cell_type": "code",
   "execution_count": null,
   "metadata": {},
   "outputs": [],
   "source": [
    "scc_list = list(nx.strongly_connected_components(G))\n",
    "scc_list = sorted(scc_list, key = len, reverse=True)\n",
    "\n",
    "print(f'number of strongly connected componets = {len(scc_list)}')\n",
    "print(f'size of GSCC = {len(scc_list[0])/len(G.nodes)}')\n",
    "print(f'size of second SCC = {len(scc_list[1])/len(G.nodes)}')"
   ]
  },
  {
   "cell_type": "markdown",
   "metadata": {},
   "source": [
    "## Problem 4. \n",
    "The graph generated using the Bollobas - Borgs - Riordan -Chayes model with $\\alpha = \\beta = 0.5$, $\\gamma = \\delta_{out} = 0$ is presented in the file graph.txt. $\\delta_{in}$ is unknown.\n",
    "\n",
    "The order of edges and vertex numbers in the file corresponds to the order in which they actually appeared.\n",
    "The first number in the line is the beginning of the edge, the second is the end of the edge. Initial graph - triangle\n",
    "\n",
    "[(0, 1), (1, 2), (2, 0)].\n",
    "\n",
    "Plot the dependence of the probability of the given graph for the given values of the parameters on $\\delta_{in}$ and find the optimal value at which the appearance of such a graph is most likely."
   ]
  },
  {
   "cell_type": "markdown",
   "metadata": {},
   "source": [
    "#### Solution\n",
    "Consider all new edges of the graph in the order of their appearance and find the probability of the appearance of each edge at the corresponding moment in time. According to the definition of the model, a new vertex is added with a probability $\\alpha = 0.5$ and not added with probability $\\beta=0.5.$  (in this case the edge is drawn between the existing nodes). \n",
    "\n",
    "As  $\\gamma = \\delta_{out}=0,$ while building  $G(t + 1)$\n",
    "from the graph $G(t)$ on $n_t$ nodes the probability to add new node $u$ and outgoing edge from it to some existing node $v$ ребро есть\n",
    "$$\n",
    "\\frac{1}{2}\\cdot\\frac{\\mathrm{indeg}\\,v + \\delta_{in}}{t+\\delta_{in}n_t}.\n",
    "$$\n",
    "The probability to add the new edge between existing nodes  $u$ and $v$ is equal to\n",
    "$$\n",
    "\\frac{1}{2}\\cdot\\frac{\\mathrm{outdeg}u}{t}\\cdot\\frac{\\mathrm{indeg}\\,v + \\delta_{ in} }{t+\\delta_{in}n_t}.\n",
    "$$\n",
    "\n",
    "\n",
    "The probability of having each particular graph $G(t)$ is equal to $\\prod\\limits_ip_i,$ where $p_i$ is determined by these formulas depending on whether the vertex $u_i$ is new. \n",
    "\n",
    "Given a particular graph, we need to maximize this probability (likelihood). In order not to work with very small numbers, we will instead of the problem $\\prod\\limits_ip_i \\to \\max\\limits_{\\delta_{in}}$ solve the equivalent one $\\sum\\limits_i\\ln p_i \\to \\max\\limits_{\\delta_{in}}.$\n",
    "\n",
    "Let us note that $\\ln \\frac{1}{2}$, $\\ln \\frac{\\mathrm{outdeg}u}{t}$ do not depend on $\\delta_{in},$ therefore, the problem is to maximize\n",
    "$$\n",
    "\\sum\\limits_i\\ln\\frac{\\mathrm{indeg}\\,v + \\delta_{in}}{t+\\delta_{in}n_t}=\\sum\\limits_i\\left(\\ln(\\mathrm{indeg}\\,v + \\delta_{in}) - \\ln(t+\\delta_{in}n_t)\\right).\n",
    "$$"
   ]
  },
  {
   "cell_type": "code",
   "execution_count": null,
   "metadata": {},
   "outputs": [],
   "source": [
    "import networkx as nx\n",
    "G = nx.MultiDiGraph()\n",
    "G.add_edges_from([(0, 1), (1, 2), (2, 0)])\n",
    "\n",
    "log_params = []\n",
    "t = 3\n",
    "for line in open(\"graph.txt\"):\n",
    "    u, v = line.strip().split('\\t')\n",
    "    u, v = int(u), int(v)\n",
    "    log_params.append((G.in_degree(v), t, G.order()))\n",
    "    t += 1\n",
    "    G.add_edge(u, v)\n"
   ]
  },
  {
   "cell_type": "code",
   "execution_count": null,
   "metadata": {},
   "outputs": [],
   "source": [
    "G.edges()"
   ]
  },
  {
   "cell_type": "code",
   "execution_count": null,
   "metadata": {},
   "outputs": [],
   "source": [
    "from numpy import log, arange\n",
    "\n",
    "def f(log_params, delta_in):\n",
    "    res = 0\n",
    "    for indeg, t, nt in log_params:\n",
    "        res += log(indeg + delta_in) - log(t + delta_in * nt)\n",
    "    return res\n",
    "\n",
    "delta_in_values = []\n",
    "f_values = []\n",
    "for delta_in in arange(0.001, 1, 0.001):\n",
    "    f_values.append(f(log_params, delta_in))\n",
    "    delta_in_values.append(delta_in)"
   ]
  },
  {
   "cell_type": "code",
   "execution_count": null,
   "metadata": {},
   "outputs": [],
   "source": [
    "import matplotlib.pyplot as plt\n",
    "\n",
    "plt.plot(delta_in_values[20:],f_values[20:])\n",
    "plt.show()"
   ]
  },
  {
   "cell_type": "code",
   "execution_count": null,
   "metadata": {},
   "outputs": [],
   "source": [
    "max(f_values)"
   ]
  },
  {
   "cell_type": "code",
   "execution_count": null,
   "metadata": {},
   "outputs": [],
   "source": [
    "max(zip(delta_in_values,f_values), key=lambda x: x[1])"
   ]
  },
  {
   "cell_type": "code",
   "execution_count": null,
   "metadata": {},
   "outputs": [],
   "source": []
  },
  {
   "cell_type": "code",
   "execution_count": null,
   "metadata": {},
   "outputs": [],
   "source": []
  },
  {
   "cell_type": "code",
   "execution_count": null,
   "metadata": {},
   "outputs": [],
   "source": []
  }
 ],
 "metadata": {
  "kernelspec": {
   "display_name": "Python 3",
   "language": "python",
   "name": "python3"
  },
  "language_info": {
   "codemirror_mode": {
    "name": "ipython",
    "version": 3
   },
   "file_extension": ".py",
   "mimetype": "text/x-python",
   "name": "python",
   "nbconvert_exporter": "python",
   "pygments_lexer": "ipython3",
   "version": "3.8.5"
  }
 },
 "nbformat": 4,
 "nbformat_minor": 4
}
