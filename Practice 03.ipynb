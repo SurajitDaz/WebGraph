{
 "cells": [
  {
   "cell_type": "markdown",
   "metadata": {},
   "source": [
    "# Problem 1"
   ]
  },
  {
   "cell_type": "markdown",
   "metadata": {},
   "source": [
    "Generate graph $H^n_{m,a}$ in the Buckley-Ostgus model and analyse the dependence of the loops count on parameter $a$ value"
   ]
  },
  {
   "cell_type": "code",
   "execution_count": null,
   "metadata": {},
   "outputs": [],
   "source": [
    "import networkx as nx\n",
    "import random\n",
    "import numpy as np\n",
    "import matplotlib.pyplot as plt"
   ]
  },
  {
   "cell_type": "code",
   "execution_count": null,
   "metadata": {},
   "outputs": [],
   "source": [
    "def generateSimpleBuckleyOsthusGraph(a,n):\n",
    "    G = nx.MultiDiGraph()\n",
    "    G.add_node(0)\n",
    "    G.add_edge(0,0)\n",
    "    p = [a+1]\n",
    "    while G.number_of_nodes() < n:\n",
    "        new_node = G.number_of_nodes()\n",
    "        G.add_node(new_node)\n",
    "        p.append(a)\n",
    "        probabilities = np.array(p)/((a+1.0)*new_node+a)\n",
    "        destination = np.random.choice(G.nodes(),1,p=probabilities)[0]\n",
    "        G.add_edge(new_node,destination)\n",
    "        p[destination] += 1\n",
    "    return G"
   ]
  },
  {
   "cell_type": "code",
   "execution_count": null,
   "metadata": {},
   "outputs": [],
   "source": [
    "def generateBuckleyOsthusGraph(a, n, m):\n",
    "    G1mn = generateSimpleBuckleyOsthusGraph(a, m*n)\n",
    "    G = nx.MultiDiGraph()\n",
    "    for u, v in G1mn.edges():\n",
    "        u_new, v_new = u // m, v // m\n",
    "        G.add_edge(u_new, v_new)\n",
    "    return G"
   ]
  },
  {
   "cell_type": "code",
   "execution_count": null,
   "metadata": {},
   "outputs": [],
   "source": [
    "H = generateBuckleyOsthusGraph(1000,1000,1)"
   ]
  },
  {
   "cell_type": "code",
   "execution_count": null,
   "metadata": {},
   "outputs": [],
   "source": [
    "H.number_of_nodes()"
   ]
  },
  {
   "cell_type": "code",
   "execution_count": null,
   "metadata": {},
   "outputs": [],
   "source": [
    "H.number_of_edges()"
   ]
  },
  {
   "cell_type": "code",
   "execution_count": null,
   "metadata": {},
   "outputs": [],
   "source": [
    "edges = H.edges()\n",
    "loops = [out_vert for (out_vert,in_vert) in list(edges) if out_vert == in_vert]\n",
    "len(loops)"
   ]
  },
  {
   "cell_type": "code",
   "execution_count": null,
   "metadata": {},
   "outputs": [],
   "source": [
    "loops_counts = []\n",
    "a_list = [0.01,0.1,0.2,0.5,1,10]\n",
    "Niter = 20\n",
    "for a in a_list:\n",
    "    loops_tmp = 0\n",
    "    for iter in range(Niter):\n",
    "        H = generateBuckleyOsthusGraph(a,1000,1)\n",
    "        edges = H.edges()\n",
    "        loops = [out_vert for (out_vert,in_vert) in list(edges) if out_vert == in_vert]\n",
    "        loops_tmp += len(loops)\n",
    "    loops_counts.append(loops_tmp / Niter)"
   ]
  },
  {
   "cell_type": "code",
   "execution_count": null,
   "metadata": {},
   "outputs": [],
   "source": [
    "plt.plot(a_list,loops_counts)"
   ]
  },
  {
   "cell_type": "markdown",
   "metadata": {},
   "source": [
    "# Problem 2"
   ]
  },
  {
   "cell_type": "markdown",
   "metadata": {},
   "source": [
    "Generate Backley-Ostgus graph $H_{a,m}^n$ with $n=5000$ nodes and $m=2$, $a=0.27$. In this graph calculate assortativity and plot $d_{nn}$.\n",
    "\n",
    "Approximate the result $d_{nn} \\sim d^\\delta$"
   ]
  },
  {
   "cell_type": "code",
   "execution_count": null,
   "metadata": {},
   "outputs": [],
   "source": [
    "H = generateBuckleyOsthusGraph(0.27, 5000, 2)"
   ]
  },
  {
   "cell_type": "markdown",
   "metadata": {},
   "source": [
    "Value $X(d_1,d_2)$ is the number of edges between the nodes with degrees $d_1$ and $d_2$ in $G$.\n",
    "Assortativity\n",
    "    $$\n",
    "    d_{nn}(d)=\\frac{\\sum\\limits_{d_1}d_1X(d_1,d)}{\\sum\\limits_{d_1}X(d_1,d)}.\n",
    "    $$"
   ]
  },
  {
   "cell_type": "code",
   "execution_count": null,
   "metadata": {},
   "outputs": [],
   "source": [
    "from collections import defaultdict\n",
    "\n",
    "def get_X(G):\n",
    "    result = defaultdict(int)\n",
    "    for u, v in G.edges():\n",
    "        result[(G.degree(u), G.degree(v))] += 1\n",
    "        result[(G.degree(v), G.degree(u))] += 1\n",
    "    return result"
   ]
  },
  {
   "cell_type": "code",
   "execution_count": null,
   "metadata": {},
   "outputs": [],
   "source": [
    "degrees = set(dict(H.degree()).values())\n",
    "X = get_X(H)\n",
    "degs = []\n",
    "assorts = []\n",
    "\n",
    "for d in sorted(degrees):\n",
    "    dnn = sum([d1 * X[(d1, d)] for d1 in degrees]) / sum([X[(d1, d)] for d1 in degrees])\n",
    "    degs.append(d)\n",
    "    assorts.append(dnn)\n",
    "\n",
    "plt.loglog(degs, assorts, ls='None', marker='o')\n",
    "plt.show()"
   ]
  },
  {
   "cell_type": "code",
   "execution_count": null,
   "metadata": {},
   "outputs": [],
   "source": [
    "def approx_assort(d, delta, c):\n",
    "    return c / d**delta"
   ]
  },
  {
   "cell_type": "code",
   "execution_count": null,
   "metadata": {},
   "outputs": [],
   "source": [
    "from scipy.optimize import curve_fit\n",
    "\n",
    "popt, pcov = curve_fit(approx_assort, degs, assorts)"
   ]
  },
  {
   "cell_type": "code",
   "execution_count": null,
   "metadata": {},
   "outputs": [],
   "source": [
    "delta, c = popt"
   ]
  },
  {
   "cell_type": "code",
   "execution_count": null,
   "metadata": {},
   "outputs": [],
   "source": [
    "plt.loglog(degs, assorts, ls='None', marker='o')\n",
    "plt.loglog(degs,[approx_assort(d, delta, c) for d in degs], ls='--',color=\"red\")\n",
    "plt.xlabel(\"Degree, $d$\")\n",
    "plt.ylabel(\"Mean neighbors' degree, $d_{nn}$\")\n",
    "plt.show()"
   ]
  },
  {
   "cell_type": "markdown",
   "metadata": {},
   "source": [
    "# Problem 3"
   ]
  },
  {
   "cell_type": "markdown",
   "metadata": {},
   "source": [
    "Analyze assortativity of the Erdos-Renyi graph "
   ]
  },
  {
   "cell_type": "code",
   "execution_count": null,
   "metadata": {},
   "outputs": [],
   "source": [
    "import networkx as nx\n",
    "import matplotlib.pyplot as plt\n",
    "\n",
    "G = nx.erdos_renyi_graph(1000,0.2)"
   ]
  },
  {
   "cell_type": "markdown",
   "metadata": {},
   "source": [
    "For undirected graph without loops and multiple edges we can use the method from networkx library"
   ]
  },
  {
   "cell_type": "code",
   "execution_count": null,
   "metadata": {},
   "outputs": [],
   "source": [
    "d_nn = nx.average_degree_connectivity(G)\n",
    "d_nn"
   ]
  },
  {
   "cell_type": "code",
   "execution_count": null,
   "metadata": {},
   "outputs": [],
   "source": [
    "plt.scatter(d_nn.keys(),d_nn.values())\n",
    "plt.ylim(top=max(d_nn.values())*1.01, bottom = min(d_nn.values())*0.99)\n",
    "plt.xlabel('Degree')\n",
    "plt.ylabel(\"Average nearest neighbours' degree\")"
   ]
  },
  {
   "cell_type": "markdown",
   "metadata": {},
   "source": [
    "# Problem 4 "
   ]
  },
  {
   "cell_type": "markdown",
   "metadata": {},
   "source": [
    "Analyze the dependence between assortativity and parameter $a$ value in the Backley-Ostgus model with $n = 2000, m = 2$"
   ]
  },
  {
   "cell_type": "code",
   "execution_count": null,
   "metadata": {},
   "outputs": [],
   "source": [
    "def calc_assorts(G):\n",
    "    degrees = set([value for (key,value) in G.degree()])\n",
    "    X = get_X(G)\n",
    "    assort_dict = {}\n",
    "    for d in sorted(degrees):\n",
    "        dnn = float(sum(d1 * X[(d1,d)] for d1 in degrees))/sum(X[(d1,d)] for d1 in degrees)\n",
    "        assort_dict[d] = dnn    \n",
    "    return assort_dict"
   ]
  },
  {
   "cell_type": "code",
   "execution_count": null,
   "metadata": {},
   "outputs": [],
   "source": [
    "n = 2000\n",
    "m = 2"
   ]
  },
  {
   "cell_type": "code",
   "execution_count": null,
   "metadata": {},
   "outputs": [],
   "source": [
    "for i in range(1,40,5):\n",
    "    a = i/10\n",
    "    print(f'a = {a}')\n",
    "    G_tmp = generateBuckleyOsthusGraph(a,n,m)\n",
    "    assort_dict = calc_assorts(G_tmp)\n",
    "    \n",
    "    plt.loglog(assort_dict.keys(),assort_dict.values(),ls='None',marker='o',label=a)\n",
    "plt.legend(title = \"Values of a\")\n",
    "plt.show()"
   ]
  },
  {
   "cell_type": "code",
   "execution_count": null,
   "metadata": {},
   "outputs": [],
   "source": [
    "a = 6\n",
    "\n",
    "G_tmp = generateBuckleyOsthusGraph(a,n,m)\n",
    "assort_dict = calc_assorts(G_tmp)\n",
    "    \n",
    "plt.loglog(assort_dict.keys(),assort_dict.values(),ls='None',marker='o',label=a)\n",
    "plt.legend(title = \"Values of a\")\n",
    "plt.show()"
   ]
  },
  {
   "cell_type": "code",
   "execution_count": null,
   "metadata": {},
   "outputs": [],
   "source": []
  }
 ],
 "metadata": {
  "kernelspec": {
   "display_name": "Python 3",
   "language": "python",
   "name": "python3"
  },
  "language_info": {
   "codemirror_mode": {
    "name": "ipython",
    "version": 3
   },
   "file_extension": ".py",
   "mimetype": "text/x-python",
   "name": "python",
   "nbconvert_exporter": "python",
   "pygments_lexer": "ipython3",
   "version": "3.8.5"
  }
 },
 "nbformat": 4,
 "nbformat_minor": 4
}
