{
 "cells": [
  {
   "cell_type": "markdown",
   "metadata": {},
   "source": [
    "# Problem 1"
   ]
  },
  {
   "cell_type": "markdown",
   "metadata": {},
   "source": [
    "Generate graph $G^n_m$ in the Bollobas - Riordan model with n = 10000, m =2. Analyze its degree distribution"
   ]
  },
  {
   "cell_type": "code",
   "execution_count": null,
   "metadata": {},
   "outputs": [],
   "source": [
    "import networkx as nx\n",
    "import random"
   ]
  },
  {
   "cell_type": "code",
   "execution_count": null,
   "metadata": {},
   "outputs": [],
   "source": [
    "def generateSimpleBollobasRiordanGraph(n):\n",
    "    G = nx.MultiDiGraph()\n",
    "    G.add_node(0)\n",
    "    G.add_edge(0, 0)\n",
    "    repeated_nodes = [0, 0]\n",
    "    while G.number_of_nodes() < n:\n",
    "        new_node = G.number_of_nodes()\n",
    "        G.add_node(new_node)\n",
    "        repeated_nodes.append(new_node)\n",
    "        destination = random.choice(repeated_nodes)\n",
    "        repeated_nodes.append(destination)\n",
    "        G.add_edge(new_node, destination)\n",
    "    return G"
   ]
  },
  {
   "cell_type": "code",
   "execution_count": null,
   "metadata": {},
   "outputs": [],
   "source": [
    "def generateBollobasRiordanGraph(n, m):\n",
    "    G1mn = generateSimpleBollobasRiordanGraph(m * n)\n",
    "    G = nx.MultiDiGraph()\n",
    "    for u, v in G1mn.edges():\n",
    "        u_new, v_new = u // m, v // m\n",
    "        G.add_edge(u_new, v_new)\n",
    "    return G"
   ]
  },
  {
   "cell_type": "code",
   "execution_count": null,
   "metadata": {},
   "outputs": [],
   "source": [
    "G = generateBollobasRiordanGraph(10000, 2)\n",
    "print(G.number_of_nodes())\n",
    "print(G.number_of_edges())"
   ]
  },
  {
   "cell_type": "code",
   "execution_count": null,
   "metadata": {},
   "outputs": [],
   "source": [
    "import matplotlib.pyplot as plt\n",
    "import numpy as np\n",
    "from collections import Counter\n",
    "\n",
    "def degree_estimation(d, m, n):\n",
    "    return 2 * (m + 1) * m * n / d / (d + 1) / (d + 2)\n",
    "\n",
    "N = 10000\n",
    "M = 2\n",
    "\n",
    "G = generateBollobasRiordanGraph(N, M)\n",
    "degrees = Counter(dict(nx.degree(G)).values())\n",
    "sorted_degree_values = sorted(degrees.keys())\n",
    "counts = [degrees[d] for d in sorted_degree_values]\n",
    "\n",
    "plt.figure(figsize=(10,10))\n",
    "\n",
    "plt.loglog(sorted_degree_values, counts, ls='None', marker='o', markersize=8, color='c')\n",
    "\n",
    "degree_values = np.arange(1, max(dict(G.degree()).values()) + 1, 0.2)[:600]\n",
    "theoretical_values = [degree_estimation(d, M, N) for d in degree_values]\n",
    "\n",
    "plt.loglog(degree_values, theoretical_values, color='r', ls='--', lw=3)\n",
    "plt.title(\"Degree distribution\", fontsize=20)\n",
    "plt.ylabel(\"#nodes (log)\", fontsize=20)\n",
    "plt.xlabel(\"degree (log)\", fontsize=20)\n",
    "plt.show()"
   ]
  },
  {
   "cell_type": "code",
   "execution_count": null,
   "metadata": {},
   "outputs": [],
   "source": [
    "N = 10000\n",
    "M = 2\n",
    "G = generateBollobasRiordanGraph(N, M)\n",
    "wcc_list = list(nx.weakly_connected_components(G))\n",
    "gwcc = max(wcc_list, key = len)\n",
    "len(gwcc)"
   ]
  },
  {
   "cell_type": "code",
   "execution_count": null,
   "metadata": {},
   "outputs": [],
   "source": [
    "scc_list = list(nx.strongly_connected_components(G))\n",
    "gscc = max(scc_list, key = len)\n",
    "len(gscc)"
   ]
  },
  {
   "cell_type": "code",
   "execution_count": null,
   "metadata": {},
   "outputs": [],
   "source": [
    "N = 10000\n",
    "for M in range (1,5):\n",
    "    G = generateBollobasRiordanGraph(N, M)\n",
    "    edges = G.edges()\n",
    "    loops = [out_vert for (out_vert,in_vert) in list(edges) if out_vert == in_vert]\n",
    "    print(f'M = {M} || loops count = {len(loops)}')"
   ]
  },
  {
   "cell_type": "code",
   "execution_count": null,
   "metadata": {},
   "outputs": [],
   "source": [
    "G = generateBollobasRiordanGraph(N, 1)\n",
    "lcc_size = len(max(list(nx.weakly_connected_components(G)), key = len))\n",
    "lcc_size"
   ]
  },
  {
   "cell_type": "markdown",
   "metadata": {},
   "source": [
    "# Problem 2"
   ]
  },
  {
   "cell_type": "markdown",
   "metadata": {},
   "source": [
    "Analyze stability of the giant weakly connected component in the Bollobas-Riordan graph "
   ]
  },
  {
   "cell_type": "code",
   "execution_count": null,
   "metadata": {},
   "outputs": [],
   "source": [
    "M = 3\n",
    "nodes_counts, fractions = [], []\n",
    "\n",
    "for i in range(100):\n",
    "    N = 100 * (1 + i)\n",
    "    p = 0.3\n",
    "    G = generateBollobasRiordanGraph(N, M)\n",
    "    nodes_list = list(G.nodes())\n",
    "    for v in nodes_list:\n",
    "        if random.random() < p:\n",
    "            G.remove_node(v)\n",
    "    LCC_size = len(max(list(nx.weakly_connected_components(G)),key=len))\n",
    "    fractions.append(LCC_size / G.number_of_nodes())\n",
    "    nodes_counts.append(N)"
   ]
  },
  {
   "cell_type": "code",
   "execution_count": null,
   "metadata": {},
   "outputs": [],
   "source": [
    "plt.plot(nodes_counts, fractions)\n",
    "plt.ylim(0.5, 1)\n",
    "plt.title('m=%d' % M, fontsize=20)\n",
    "plt.ylabel(\"c\", fontsize=20)\n",
    "plt.xlabel(\"N\", fontsize=20)\n",
    "plt.show()"
   ]
  },
  {
   "cell_type": "markdown",
   "metadata": {},
   "source": [
    "# Problem 3"
   ]
  },
  {
   "cell_type": "markdown",
   "metadata": {},
   "source": [
    "Analyze vulnerability of the giant weakly connected component in the Bollobas-Riordan graph"
   ]
  },
  {
   "cell_type": "code",
   "execution_count": null,
   "metadata": {},
   "outputs": [],
   "source": [
    "N = 10000\n",
    "M = 4\n",
    "\n",
    "G = generateBollobasRiordanGraph(N, M)"
   ]
  },
  {
   "cell_type": "code",
   "execution_count": null,
   "metadata": {},
   "outputs": [],
   "source": [
    "H = G.copy()\n",
    "\n",
    "degrees = dict(H.degree)\n",
    "degrees = sorted(degrees.items(), key = lambda x:x[1], reverse=True)\n",
    "\n",
    "n = len(H.nodes)\n",
    "c_list = []\n",
    "comp_size = []\n",
    "\n",
    "i = 0\n",
    "for node,_ in degrees[:5000]:\n",
    "    i += 1\n",
    "    H.remove_node(node)\n",
    "    if i%1000 == 0:\n",
    "        print(i)\n",
    "        comps = list(nx.weakly_connected_components(H))\n",
    "        lcc_size = len(max(comps, key = len))\n",
    "        c_list.append(i/n)\n",
    "        comp_size.append(lcc_size/len(H.nodes))"
   ]
  },
  {
   "cell_type": "code",
   "execution_count": null,
   "metadata": {},
   "outputs": [],
   "source": [
    "plt.plot(c_list,comp_size)"
   ]
  },
  {
   "cell_type": "code",
   "execution_count": null,
   "metadata": {},
   "outputs": [],
   "source": []
  }
 ],
 "metadata": {
  "kernelspec": {
   "display_name": "Python 3",
   "language": "python",
   "name": "python3"
  },
  "language_info": {
   "codemirror_mode": {
    "name": "ipython",
    "version": 3
   },
   "file_extension": ".py",
   "mimetype": "text/x-python",
   "name": "python",
   "nbconvert_exporter": "python",
   "pygments_lexer": "ipython3",
   "version": "3.8.5"
  }
 },
 "nbformat": 4,
 "nbformat_minor": 4
}
