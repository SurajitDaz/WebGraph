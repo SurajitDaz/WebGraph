{
 "cells": [
  {
   "cell_type": "markdown",
   "metadata": {},
   "source": [
    "## Problem 1\n",
    "Analyze betweenness centrality of the line graph on 50 nodes"
   ]
  },
  {
   "cell_type": "code",
   "execution_count": null,
   "metadata": {},
   "outputs": [],
   "source": [
    "import networkx as nx"
   ]
  },
  {
   "cell_type": "code",
   "execution_count": null,
   "metadata": {},
   "outputs": [],
   "source": [
    "n = 50"
   ]
  },
  {
   "cell_type": "code",
   "execution_count": null,
   "metadata": {},
   "outputs": [],
   "source": [
    "G = nx.Graph()\n",
    "G.add_node(0)\n",
    "for i in range(1,n):\n",
    "    G.add_edge(i-1,i)"
   ]
  },
  {
   "cell_type": "code",
   "execution_count": null,
   "metadata": {},
   "outputs": [],
   "source": [
    "b = nx.betweenness_centrality(G, normalized=False)\n",
    "b"
   ]
  },
  {
   "cell_type": "code",
   "execution_count": null,
   "metadata": {},
   "outputs": [],
   "source": [
    "bb = {}\n",
    "for i in range(n):\n",
    "    j = i + 1 # i starts from 0\n",
    "    bb[i] = (b[i],(j-1)*(n - j))\n",
    "    \n",
    "bb"
   ]
  },
  {
   "cell_type": "markdown",
   "metadata": {},
   "source": [
    "## Problem 3 \n",
    "Calculate betweenness of all nodes in the graph of the example"
   ]
  },
  {
   "cell_type": "code",
   "execution_count": null,
   "metadata": {},
   "outputs": [],
   "source": [
    "edges = [(1,2),(2,3),(1,3),(3,6),(3,5),(3,4),(4,5),(5,6),(5,7),(6,7),(7,8),(8,9),(8,10)]"
   ]
  },
  {
   "cell_type": "code",
   "execution_count": null,
   "metadata": {},
   "outputs": [],
   "source": [
    "G = nx.Graph()"
   ]
  },
  {
   "cell_type": "code",
   "execution_count": null,
   "metadata": {},
   "outputs": [],
   "source": [
    "G.add_edges_from(edges)"
   ]
  },
  {
   "cell_type": "code",
   "execution_count": null,
   "metadata": {},
   "outputs": [],
   "source": [
    "betw = nx.betweenness_centrality(G, normalized=False)"
   ]
  },
  {
   "cell_type": "code",
   "execution_count": null,
   "metadata": {},
   "outputs": [],
   "source": [
    "betw"
   ]
  },
  {
   "cell_type": "markdown",
   "metadata": {},
   "source": [
    "## Problem 4\n",
    "Analyze the part ru.wikipedia.org devoted to the Russian cities. \n",
    "Each line in links.txt contains information about one edge (hyper-link): two nodes ides devided by \\t. pages.txt contains names of web-pages indexed by ids in links.txt. Find the top 10 nodes by betweenness centrality."
   ]
  },
  {
   "cell_type": "code",
   "execution_count": null,
   "metadata": {},
   "outputs": [],
   "source": [
    "with open(\"links.txt\", \"r\") as f:\n",
    "    G = nx.DiGraph()\n",
    "    for line in f:\n",
    "        u, v = line.strip().split('\\t')\n",
    "        G.add_edge(u, v)"
   ]
  },
  {
   "cell_type": "code",
   "execution_count": null,
   "metadata": {},
   "outputs": [],
   "source": [
    "page2link = {}\n",
    "with open(\"pages.txt\", \"r\", encoding=\"utf8\") as f:\n",
    "    for line in f:\n",
    "        page, link = line.strip().split('\\t')\n",
    "        page2link[page] = link"
   ]
  },
  {
   "cell_type": "code",
   "execution_count": null,
   "metadata": {},
   "outputs": [],
   "source": [
    "import time\n",
    "import numpy as np"
   ]
  },
  {
   "cell_type": "code",
   "execution_count": null,
   "metadata": {},
   "outputs": [],
   "source": [
    "start = time.time()\n",
    "bc = nx.betweenness_centrality(G, normalized=False)\n",
    "end = time.time()\n",
    "print(f'elapsed time {end - start}')"
   ]
  },
  {
   "cell_type": "code",
   "execution_count": null,
   "metadata": {},
   "outputs": [],
   "source": [
    "print(f'mean bc = {np.mean(list(bc.values()))}')"
   ]
  },
  {
   "cell_type": "code",
   "execution_count": null,
   "metadata": {},
   "outputs": [],
   "source": [
    "len(G.nodes)"
   ]
  },
  {
   "cell_type": "code",
   "execution_count": null,
   "metadata": {},
   "outputs": [],
   "source": [
    "bc_sorted = sorted(bc.items(), key = lambda x:x[1], reverse=True)"
   ]
  },
  {
   "cell_type": "code",
   "execution_count": null,
   "metadata": {},
   "outputs": [],
   "source": [
    "bc_sorted[:10]"
   ]
  },
  {
   "cell_type": "code",
   "execution_count": null,
   "metadata": {},
   "outputs": [],
   "source": [
    "i = 0\n",
    "for k,v in bc_sorted[:10]:\n",
    "    i += 1\n",
    "    print(f'{i}:{page2link[k]}')"
   ]
  },
  {
   "cell_type": "code",
   "execution_count": null,
   "metadata": {},
   "outputs": [],
   "source": [
    "start = time.time()\n",
    "bc_approx = nx.betweenness_centrality(G, normalized=False, k = 100)\n",
    "end = time.time()\n",
    "print(f'elapsed time {end - start}')\n",
    "print(f'mean bc (approx) = {np.mean(list(bc_approx.values()))}')\n",
    "bc_approx_sorted = sorted(bc_approx.items(), key = lambda x:x[1], reverse=True)\n",
    "i = 0\n",
    "for k,v in bc_approx_sorted[:10]:\n",
    "    i += 1\n",
    "    print(f'{i}:{page2link[k]}')"
   ]
  },
  {
   "cell_type": "code",
   "execution_count": null,
   "metadata": {},
   "outputs": [],
   "source": [
    "degrees = G.degree()"
   ]
  },
  {
   "cell_type": "code",
   "execution_count": null,
   "metadata": {},
   "outputs": [],
   "source": [
    "degrees_sorted = sorted(dict(degrees).items(), key = lambda x:x[1], reverse=True)"
   ]
  },
  {
   "cell_type": "code",
   "execution_count": null,
   "metadata": {},
   "outputs": [],
   "source": [
    "degrees_sorted[:10]"
   ]
  },
  {
   "cell_type": "code",
   "execution_count": null,
   "metadata": {},
   "outputs": [],
   "source": [
    "import matplotlib.pyplot as plt"
   ]
  },
  {
   "cell_type": "code",
   "execution_count": null,
   "metadata": {},
   "outputs": [],
   "source": [
    "plt.loglog(bc.values(), dict(degrees).values(), ls='None',marker='o')\n",
    "plt.xlabel('Betweenness, log')\n",
    "plt.ylabel('Total degree, log')"
   ]
  },
  {
   "cell_type": "code",
   "execution_count": null,
   "metadata": {},
   "outputs": [],
   "source": [
    "G_simple = nx.Graph(G)"
   ]
  },
  {
   "cell_type": "code",
   "execution_count": null,
   "metadata": {},
   "outputs": [],
   "source": [
    "clust_coeffs = nx.clustering(G_simple)\n",
    "bc = nx.betweenness_centrality(G_simple)"
   ]
  },
  {
   "cell_type": "code",
   "execution_count": null,
   "metadata": {},
   "outputs": [],
   "source": [
    "plt.loglog(bc.values(), dict(clust_coeffs).values(), ls='None',marker='o')\n",
    "plt.xlabel('Betweenness, log')\n",
    "plt.ylabel('Local clustering coefficient, log')"
   ]
  },
  {
   "cell_type": "code",
   "execution_count": null,
   "metadata": {},
   "outputs": [],
   "source": [
    "n, bins, _ = plt.hist(bc.values(), bins = 100, histtype = 'step', density=True)\n",
    "plt.yscale('log')\n",
    "plt.xscale('log')\n",
    "plt.xlabel('Betweenness, log')\n",
    "plt.ylabel('Density')"
   ]
  },
  {
   "cell_type": "code",
   "execution_count": null,
   "metadata": {},
   "outputs": [],
   "source": [
    "mids = [(bins[i] + bins[i+1])/2 for i in range(len(bins)-1)]\n",
    "plt.loglog(mids,n, ls = 'None', marker = 'o')\n",
    "plt.xlabel('Betweenness, log')\n",
    "plt.ylabel('Density')"
   ]
  },
  {
   "cell_type": "code",
   "execution_count": null,
   "metadata": {},
   "outputs": [],
   "source": [
    "import igraph as ig"
   ]
  },
  {
   "cell_type": "code",
   "execution_count": null,
   "metadata": {},
   "outputs": [],
   "source": [
    "edges = []\n",
    "nodes = []\n",
    "with open(\"links.txt\", \"r\") as f:\n",
    "    for line in f:\n",
    "        u, v = line.strip().split('\\t')\n",
    "        edges.append((u,v))\n",
    "        nodes.append(u)\n",
    "        nodes.append(v)\n",
    "nodes = list(set(nodes))"
   ]
  },
  {
   "cell_type": "code",
   "execution_count": null,
   "metadata": {},
   "outputs": [],
   "source": [
    "graph = ig.Graph(directed=True)\n",
    "graph.add_vertices(nodes)\n",
    "graph.add_edges(edges)"
   ]
  },
  {
   "cell_type": "code",
   "execution_count": null,
   "metadata": {},
   "outputs": [],
   "source": [
    "start = time.time()\n",
    "betw = graph.betweenness(directed=True)\n",
    "end = time.time()\n",
    "print(f'elapsed time {end - start}')"
   ]
  },
  {
   "cell_type": "code",
   "execution_count": null,
   "metadata": {},
   "outputs": [],
   "source": [
    "nodes_names = graph.vs['name']\n",
    "betw_dict = {nodes_names[i]:betw[i] for i in range(len(nodes_names))}"
   ]
  },
  {
   "cell_type": "code",
   "execution_count": null,
   "metadata": {},
   "outputs": [],
   "source": [
    "bc_sorted = sorted(betw_dict.items(), key = lambda x:x[1], reverse=True)"
   ]
  },
  {
   "cell_type": "code",
   "execution_count": null,
   "metadata": {},
   "outputs": [],
   "source": [
    "bc_sorted[:10]"
   ]
  },
  {
   "cell_type": "markdown",
   "metadata": {},
   "source": [
    "## Problem 5\n",
    "Build the graph consisting of two disconnected Erdos-Renyi graphs on 100 nodes with $p=0.2$. Add three bridges between this disconnected graphs. Which nodes have the highest betweenness in the graph with bridges?"
   ]
  },
  {
   "cell_type": "code",
   "execution_count": null,
   "metadata": {},
   "outputs": [],
   "source": [
    "G1 = nx.erdos_renyi_graph(100, p = 0.2)\n",
    "len(list(nx.connected_components(G1)))"
   ]
  },
  {
   "cell_type": "code",
   "execution_count": null,
   "metadata": {},
   "outputs": [],
   "source": [
    "G2 = nx.erdos_renyi_graph(100, p = 0.2)\n",
    "len(list(nx.connected_components(G2)))"
   ]
  },
  {
   "cell_type": "code",
   "execution_count": null,
   "metadata": {},
   "outputs": [],
   "source": [
    "G = nx.Graph()\n",
    "for u,v in G1.edges:\n",
    "    G.add_edge(u,v)\n",
    "for u,v in G2.edges:\n",
    "    G.add_edge(100+u, 100+v)"
   ]
  },
  {
   "cell_type": "code",
   "execution_count": null,
   "metadata": {},
   "outputs": [],
   "source": [
    "list(nx.connected_components(G))"
   ]
  },
  {
   "cell_type": "code",
   "execution_count": null,
   "metadata": {},
   "outputs": [],
   "source": [
    "bridges = [(0, 100), (1,101), (2,102)]"
   ]
  },
  {
   "cell_type": "code",
   "execution_count": null,
   "metadata": {},
   "outputs": [],
   "source": [
    "for u,v in bridges:\n",
    "    G.add_edge(u,v)"
   ]
  },
  {
   "cell_type": "code",
   "execution_count": null,
   "metadata": {},
   "outputs": [],
   "source": [
    "len(list(nx.connected_components(G)))"
   ]
  },
  {
   "cell_type": "code",
   "execution_count": null,
   "metadata": {},
   "outputs": [],
   "source": [
    "bc = nx.betweenness_centrality(G, normalized=False)\n",
    "bc = sorted(bc.items(), key = lambda x:x[1], reverse=True)\n",
    "bc[:10]"
   ]
  },
  {
   "cell_type": "code",
   "execution_count": null,
   "metadata": {},
   "outputs": [],
   "source": [
    "plt.hist([x[1] for x in bc], bins = 100)"
   ]
  },
  {
   "cell_type": "code",
   "execution_count": null,
   "metadata": {},
   "outputs": [],
   "source": []
  }
 ],
 "metadata": {
  "kernelspec": {
   "display_name": "Python 3",
   "language": "python",
   "name": "python3"
  },
  "language_info": {
   "codemirror_mode": {
    "name": "ipython",
    "version": 3
   },
   "file_extension": ".py",
   "mimetype": "text/x-python",
   "name": "python",
   "nbconvert_exporter": "python",
   "pygments_lexer": "ipython3",
   "version": "3.8.5"
  }
 },
 "nbformat": 4,
 "nbformat_minor": 4
}
