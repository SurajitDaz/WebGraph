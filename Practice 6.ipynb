{
 "cells": [
  {
   "cell_type": "markdown",
   "metadata": {},
   "source": [
    "## Problem1\n",
    "\n",
    "Calculate betweenness, closeness, eigenvector and pagerank centrality of all nodes in the graph of the example\n",
    "\n",
    "\n",
    "<img src=\"ex.png\"> "
   ]
  },
  {
   "cell_type": "code",
   "execution_count": null,
   "metadata": {},
   "outputs": [],
   "source": [
    "import networkx as nx"
   ]
  },
  {
   "cell_type": "code",
   "execution_count": null,
   "metadata": {},
   "outputs": [],
   "source": [
    "edges = [(1,2),(2,3),(1,3),(3,6),(3,5),(3,4),(4,5),(5,6),(5,7),(6,7),(7,8),(8,9),(8,10)]\n",
    "G = nx.Graph()\n",
    "G.add_edges_from(edges)"
   ]
  },
  {
   "cell_type": "code",
   "execution_count": null,
   "metadata": {},
   "outputs": [],
   "source": [
    "betw = nx.betweenness_centrality(G, normalized=False)\n",
    "betw"
   ]
  },
  {
   "cell_type": "code",
   "execution_count": null,
   "metadata": {},
   "outputs": [],
   "source": [
    "n = G.number_of_nodes()\n",
    "cl = [(x[0],x[1]/(n-1)) for x in nx.closeness_centrality(G).items()]\n",
    "cl"
   ]
  },
  {
   "cell_type": "code",
   "execution_count": null,
   "metadata": {},
   "outputs": [],
   "source": [
    "eig = nx.eigenvector_centrality(G)\n",
    "eig"
   ]
  },
  {
   "cell_type": "code",
   "execution_count": null,
   "metadata": {},
   "outputs": [],
   "source": [
    "pr = nx.pagerank(G, alpha=0.85)\n",
    "pr"
   ]
  },
  {
   "cell_type": "markdown",
   "metadata": {},
   "source": [
    "## Problem 2\n",
    "\n",
    "Analyze closeness centrality of the line graph on 50 nodes"
   ]
  },
  {
   "cell_type": "code",
   "execution_count": null,
   "metadata": {},
   "outputs": [],
   "source": [
    "n=50\n",
    "G = nx.Graph()\n",
    "G.add_node(0)\n",
    "for i in range(1,n):\n",
    "    G.add_edge(i-1,i)"
   ]
  },
  {
   "cell_type": "code",
   "execution_count": null,
   "metadata": {},
   "outputs": [],
   "source": [
    "c = [(x[0],x[1]/(n-1)) for x in nx.closeness_centrality(G).items()]\n",
    "top10cl = sorted(c,key = lambda x: x[1], reverse=True)[:10]\n",
    "top10cl"
   ]
  },
  {
   "cell_type": "code",
   "execution_count": null,
   "metadata": {},
   "outputs": [],
   "source": [
    "cc = {}\n",
    "for i in range(n):\n",
    "    j = i + 1 # i starts from 0\n",
    "    sum_dist = (2*j**2+n**2-2*n*j-2*j+n)/2\n",
    "    cc[i] = (c[i][1],1/sum_dist)\n",
    "    \n",
    "cc"
   ]
  },
  {
   "cell_type": "code",
   "execution_count": null,
   "metadata": {},
   "outputs": [],
   "source": [
    "G_w = nx.Graph()\n",
    "G_w.add_node(0)\n",
    "for i in range(1,n):\n",
    "    G_w.add_edge(i-1,i,dist = i**2)"
   ]
  },
  {
   "cell_type": "code",
   "execution_count": null,
   "metadata": {},
   "outputs": [],
   "source": [
    "c_w = [(x[0],x[1]/(n-1)) for x in nx.closeness_centrality(G_w,distance = \"dist\").items()]\n",
    "top10cl_w = sorted(c_w,key = lambda x: x[1], reverse=True)[:10]\n",
    "top10cl_w"
   ]
  },
  {
   "cell_type": "code",
   "execution_count": null,
   "metadata": {},
   "outputs": [],
   "source": [
    "import matplotlib.pyplot as plt"
   ]
  },
  {
   "cell_type": "code",
   "execution_count": null,
   "metadata": {},
   "outputs": [],
   "source": [
    "plt.plot([x[0] for x in c_w], [x[1] for x in c_w])"
   ]
  },
  {
   "cell_type": "markdown",
   "metadata": {},
   "source": [
    "## Problem 4\n",
    "\n",
    "Analyze the part ru.wikipedia.org devoted to the Russian cities. Each line in links.txt contains information about one edge (hyper-link): two nodes ides devided by \\t. pages.txt contains names of web-pages indexed by ids in links.txt. Find the top 10 nodes by different centrality measures."
   ]
  },
  {
   "cell_type": "code",
   "execution_count": null,
   "metadata": {},
   "outputs": [],
   "source": [
    "import networkx as nx\n",
    "import matplotlib.pyplot as plt"
   ]
  },
  {
   "cell_type": "code",
   "execution_count": null,
   "metadata": {},
   "outputs": [],
   "source": [
    "with open(\"links.txt\", \"r\") as f:\n",
    "    G = nx.DiGraph()\n",
    "    for line in f:\n",
    "        u, v = line.strip().split('\\t')\n",
    "        G.add_edge(u, v)"
   ]
  },
  {
   "cell_type": "code",
   "execution_count": null,
   "metadata": {},
   "outputs": [],
   "source": [
    "page2link = {}\n",
    "with open(\"pages.txt\", \"r\", encoding=\"utf8\") as f:\n",
    "    for line in f:\n",
    "        page, link = line.strip().split('\\t')\n",
    "        page2link[page] = link"
   ]
  },
  {
   "cell_type": "code",
   "execution_count": null,
   "metadata": {},
   "outputs": [],
   "source": [
    "def top_names(node_to_rank, names, top = 10):\n",
    "    dict_sorted = sorted(node_to_rank.items(), key = lambda x:x[1], reverse=True)\n",
    "    return([names[k] for k,_ in dict_sorted[:top]])"
   ]
  },
  {
   "cell_type": "code",
   "execution_count": null,
   "metadata": {},
   "outputs": [],
   "source": [
    "n = G.number_of_edges()"
   ]
  },
  {
   "cell_type": "code",
   "execution_count": null,
   "metadata": {},
   "outputs": [],
   "source": [
    "bc = nx.betweenness_centrality(G, normalized=False)"
   ]
  },
  {
   "cell_type": "code",
   "execution_count": null,
   "metadata": {},
   "outputs": [],
   "source": [
    "cl = {x[0]:x[1]/(n-1) for x in nx.closeness_centrality(G).items()}"
   ]
  },
  {
   "cell_type": "code",
   "execution_count": null,
   "metadata": {},
   "outputs": [],
   "source": [
    "eig = nx.eigenvector_centrality(G)"
   ]
  },
  {
   "cell_type": "code",
   "execution_count": null,
   "metadata": {},
   "outputs": [],
   "source": [
    "pr = nx.pagerank(G, alpha=0.85)"
   ]
  },
  {
   "cell_type": "code",
   "execution_count": null,
   "metadata": {},
   "outputs": [],
   "source": [
    "top_names(bc,page2link)"
   ]
  },
  {
   "cell_type": "code",
   "execution_count": null,
   "metadata": {},
   "outputs": [],
   "source": [
    "top_names(cl,page2link)"
   ]
  },
  {
   "cell_type": "code",
   "execution_count": null,
   "metadata": {},
   "outputs": [],
   "source": [
    "top_names(eig,page2link)"
   ]
  },
  {
   "cell_type": "code",
   "execution_count": null,
   "metadata": {},
   "outputs": [],
   "source": [
    "top_names(pr, page2link)"
   ]
  },
  {
   "cell_type": "code",
   "execution_count": null,
   "metadata": {},
   "outputs": [],
   "source": [
    "import matplotlib.pyplot as plt"
   ]
  },
  {
   "cell_type": "code",
   "execution_count": null,
   "metadata": {},
   "outputs": [],
   "source": [
    "plt.loglog(bc.values(),pr.values(), ls = 'None', marker = 'o')"
   ]
  },
  {
   "cell_type": "code",
   "execution_count": null,
   "metadata": {},
   "outputs": [],
   "source": [
    "plt.loglog(dict(G.degree()).values(),pr.values(), ls='None', marker = 'o')"
   ]
  },
  {
   "cell_type": "code",
   "execution_count": null,
   "metadata": {},
   "outputs": [],
   "source": [
    "plt.loglog(eig.values(),pr.values(), ls='None', marker = 'o')"
   ]
  },
  {
   "cell_type": "code",
   "execution_count": null,
   "metadata": {},
   "outputs": [],
   "source": [
    "plt.loglog(cl.values(),pr.values(), ls='None', marker = 'o')"
   ]
  },
  {
   "cell_type": "code",
   "execution_count": null,
   "metadata": {},
   "outputs": [],
   "source": [
    "n, bins, _ = plt.hist(bc.values(), bins = 100, histtype = 'step', density=True)\n",
    "plt.yscale('log')\n",
    "plt.xscale('log')\n",
    "plt.xlabel('Betweenness, log')\n",
    "plt.ylabel('Density')"
   ]
  },
  {
   "cell_type": "code",
   "execution_count": null,
   "metadata": {},
   "outputs": [],
   "source": [
    "mids = [(bins[i] + bins[i+1])/2 for i in range(len(bins)-1)]\n",
    "plt.loglog(mids,n, ls = 'None', marker = 'o')\n",
    "plt.xlabel('Betweenness, log')\n",
    "plt.ylabel('Density')"
   ]
  },
  {
   "cell_type": "code",
   "execution_count": null,
   "metadata": {},
   "outputs": [],
   "source": [
    "n, bins, _ = plt.hist(pr.values(), bins = 100, histtype = 'step', density=True)\n",
    "mids = [(bins[i] + bins[i+1])/2 for i in range(len(bins)-1)]\n",
    "plt.figure()\n",
    "plt.loglog(mids,n, ls = 'None', marker = 'o')\n",
    "plt.xlabel('PageRank, log')\n",
    "plt.ylabel('Density')"
   ]
  },
  {
   "cell_type": "code",
   "execution_count": null,
   "metadata": {},
   "outputs": [],
   "source": [
    "n, bins, _ = plt.hist(cl.values(), bins = 100, histtype = 'step', density=True)\n",
    "mids = [(bins[i] + bins[i+1])/2 for i in range(len(bins)-1)]\n",
    "plt.figure()\n",
    "plt.plot(mids,n, ls = 'None', marker = 'o')\n",
    "plt.xlabel('Closeness')\n",
    "plt.ylabel('Density')"
   ]
  },
  {
   "cell_type": "code",
   "execution_count": null,
   "metadata": {},
   "outputs": [],
   "source": [
    "n, bins, _ = plt.hist(eig.values(), bins = 100, histtype = 'step', density=True)\n",
    "mids = [(bins[i] + bins[i+1])/2 for i in range(len(bins)-1)]\n",
    "plt.figure()\n",
    "plt.loglog(mids,n, ls = 'None', marker = 'o')\n",
    "plt.xlabel('Eigenvector, log')\n",
    "plt.ylabel('Density')"
   ]
  },
  {
   "cell_type": "code",
   "execution_count": null,
   "metadata": {},
   "outputs": [],
   "source": [
    "wcc_list = list(nx.weakly_connected_components(G))\n",
    "wcc_list = sorted(wcc_list, key = len, reverse=True)\n",
    "scc_list = list(nx.strongly_connected_components(G))\n",
    "scc_list = sorted(scc_list, key = len, reverse=True)\n",
    "print(f'number of weakly connected componets = {len(wcc_list)}')\n",
    "print(f'size of GWCC = {len(wcc_list[0])/len(G.nodes)}')\n",
    "print(f'size of second WCC = {len(wcc_list[1])/len(G.nodes)}')\n",
    "print(f'number of strongly connected componets = {len(scc_list)}')\n",
    "print(f'size of GSCC = {len(scc_list[0])/len(G.nodes)}')\n",
    "print(f'size of second SCC = {len(scc_list[1])/len(G.nodes)}')"
   ]
  },
  {
   "cell_type": "code",
   "execution_count": null,
   "metadata": {},
   "outputs": [],
   "source": [
    "n = G.number_of_nodes()\n",
    "nodes_in_gwcc = list(wcc_list[0])\n",
    "nodes_in_gscc = list(scc_list[0])\n",
    "\n",
    "in_nodes = []\n",
    "out_nodes = []\n",
    "\n",
    "for node in nodes_in_gwcc:\n",
    "    if not node in nodes_in_gscc:\n",
    "        if nx.has_path(G, node, nodes_in_gscc[0]):\n",
    "            in_nodes.append(node)\n",
    "        elif nx.has_path(G, nodes_in_gscc[0], node):\n",
    "            out_nodes.append(node)\n",
    "\n",
    "print(f'In component size = {len(in_nodes)/n}')\n",
    "print(f'Out component size = {len(out_nodes)/n}')\n",
    "print(f'In + Out + SCC size to WCC = {(len(out_nodes) + len(in_nodes) + len(nodes_in_gscc))/len(nodes_in_gwcc)}')"
   ]
  },
  {
   "cell_type": "code",
   "execution_count": null,
   "metadata": {},
   "outputs": [],
   "source": [
    "max([eig[node] for node in in_nodes])"
   ]
  },
  {
   "cell_type": "code",
   "execution_count": null,
   "metadata": {},
   "outputs": [],
   "source": []
  }
 ],
 "metadata": {
  "kernelspec": {
   "display_name": "Python 3",
   "language": "python",
   "name": "python3"
  },
  "language_info": {
   "codemirror_mode": {
    "name": "ipython",
    "version": 3
   },
   "file_extension": ".py",
   "mimetype": "text/x-python",
   "name": "python",
   "nbconvert_exporter": "python",
   "pygments_lexer": "ipython3",
   "version": "3.8.5"
  }
 },
 "nbformat": 4,
 "nbformat_minor": 4
}
