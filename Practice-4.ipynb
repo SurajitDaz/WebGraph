{
 "cells": [
  {
   "cell_type": "markdown",
   "metadata": {},
   "source": [
    "# Problem 1"
   ]
  },
  {
   "cell_type": "markdown",
   "metadata": {},
   "source": [
    "Analyse the results obtained by utilisation of the functions networkx.transitivity and networkx.average_clustering. \n",
    "\n",
    "Implement function calculating local clustering coefficient for the directed network without loops and multiple edges. Generate the sequence of random graphs $G_3^n$ in the Bollobas-Riordan model with $n = 100, 200, ..., 10000$ and plot the plot for global and mean local clustering coefficients in the following two cases:\n",
    "\n",
    "- graphs are considered not to have directions, loops and multiple edges,\n",
    "\n",
    "- item graphs are considered not to have loops and multiple edges, but directions are taken into account\n",
    "\n",
    "Is it true that in these graphs local clustering coefficient by constant times higher than the global one?\n",
    "\n",
    "Compare the results of utilization of the two functions  networkx.approximation.average_clustering and networkx.average_clustering"
   ]
  },
  {
   "cell_type": "code",
   "execution_count": null,
   "metadata": {},
   "outputs": [],
   "source": [
    "import networkx as nx\n",
    "import matplotlib.pyplot as plt\n",
    "import pylab\n",
    "%matplotlib inline\n",
    "import random\n"
   ]
  },
  {
   "cell_type": "code",
   "execution_count": null,
   "metadata": {},
   "outputs": [],
   "source": [
    "def generateSimpleBollobasRiordanGraph(n):\n",
    "    G = nx.MultiDiGraph()\n",
    "    G.add_node(0)\n",
    "    G.add_edge(0, 0)\n",
    "    repeated_nodes = [0, 0]\n",
    "    while G.number_of_nodes() < n:\n",
    "        new_node = G.number_of_nodes()\n",
    "        G.add_node(new_node)\n",
    "        repeated_nodes.append(new_node)\n",
    "        destination = random.choice(repeated_nodes)\n",
    "        repeated_nodes.append(destination)\n",
    "        G.add_edge(new_node, destination)\n",
    "    return G\n",
    "\n",
    "def generateBollobasRiordanGraph(n, m):\n",
    "    G1mn = generateSimpleBollobasRiordanGraph(m * n)\n",
    "    G = nx.MultiDiGraph()\n",
    "    for u, v in G1mn.edges():\n",
    "        u_new, v_new = u // m, v // m\n",
    "        G.add_edge(u_new, v_new)\n",
    "    return G"
   ]
  },
  {
   "cell_type": "code",
   "execution_count": null,
   "metadata": {},
   "outputs": [],
   "source": [
    "H = nx.DiGraph()\n",
    "H.add_edge(1, 2)\n",
    "H.add_edge(1, 0)\n",
    "H.add_edge(2, 0)\n",
    "# H.add_edge(0, 2)\n",
    "print(nx.transitivity(H))\n",
    "print(nx.average_clustering(H))\n",
    "print(nx.clustering(H))\n",
    "# print(nx.triangles(H)) # not defined for directed graphs"
   ]
  },
  {
   "cell_type": "markdown",
   "metadata": {},
   "source": [
    "Functions networkx.average_clustering and networkx.transitivity are differently defined for directed graphs. Therefore, we should implement average_clustering for the same definition as used for the transitivity case. \n",
    "\n",
    "Local clustering coefficient in this case can be defined as follows:\n",
    "$$\n",
    "C_v = \\frac{|\\{(x,y)\\in E: x,y \\in N_v\\}|}{n_v(n_v-1)}\n",
    "$$"
   ]
  },
  {
   "cell_type": "code",
   "execution_count": null,
   "metadata": {},
   "outputs": [],
   "source": [
    "from itertools import permutations\n",
    "\n",
    "def local_clustering_directed(G, v):\n",
    "    number_of_edges = 0\n",
    "    nv = len(list(G.neighbors(v)))\n",
    "    if nv <= 1:\n",
    "        return 1\n",
    "    for (x, y) in permutations(G.neighbors(v), 2):\n",
    "        if x in G.neighbors(y):\n",
    "            number_of_edges += 1\n",
    "    return number_of_edges / nv / (nv - 1)"
   ]
  },
  {
   "cell_type": "code",
   "execution_count": null,
   "metadata": {},
   "outputs": [],
   "source": [
    "def average_local_clustering_directed(G):\n",
    "    res = 0\n",
    "    for v in G.nodes():\n",
    "        res += local_clustering_directed(G, v)\n",
    "    return res / G.number_of_nodes()"
   ]
  },
  {
   "cell_type": "code",
   "execution_count": null,
   "metadata": {},
   "outputs": [],
   "source": [
    "average_local_clustering_directed(H)"
   ]
  },
  {
   "cell_type": "code",
   "execution_count": null,
   "metadata": {},
   "outputs": [],
   "source": [
    "G = generateBollobasRiordanGraph(10000, 3)"
   ]
  },
  {
   "cell_type": "code",
   "execution_count": null,
   "metadata": {},
   "outputs": [],
   "source": [
    "print(nx.transitivity(nx.DiGraph(G)))\n",
    "print(nx.transitivity(nx.Graph(G)))\n",
    "# print(nx.transitivity(G))   #not defined for multigraphs\n",
    "print(nx.average_clustering(nx.Graph(G)))\n",
    "print(nx.average_clustering(nx.DiGraph(G)))\n",
    "print(average_local_clustering_directed(nx.DiGraph(G)))"
   ]
  },
  {
   "cell_type": "code",
   "execution_count": null,
   "metadata": {},
   "outputs": [],
   "source": [
    "from networkx.algorithms import approximation\n",
    "print(approximation.average_clustering(nx.Graph(G), trials=100))\n",
    "print(approximation.average_clustering(nx.Graph(G), trials=1000))\n",
    "print(approximation.average_clustering(nx.Graph(G), trials=10000))\n",
    "print(approximation.average_clustering(nx.Graph(G), trials=100000))"
   ]
  },
  {
   "cell_type": "code",
   "execution_count": null,
   "metadata": {
    "scrolled": true
   },
   "outputs": [],
   "source": [
    "di_graph_t = []  # global clustering coefficient (with directions)\n",
    "di_graph_ac = [] # mean local clustring coefficient (with directions)\n",
    "t = []           # global clustering coefficient (without directions)\n",
    "ac = []          # mean local clustring coefficient (without directions)\n",
    "ns = []          # numbers of nodes\n",
    "for N in range(100, 10000, 100):\n",
    "    print(N)\n",
    "    G = generateBollobasRiordanGraph(N, 3)\n",
    "    ns.append(N)\n",
    "    t.append(nx.transitivity(nx.Graph(G)))\n",
    "    ac.append(nx.average_clustering(nx.Graph(G)))\n",
    "    di_graph_t.append(nx.transitivity(nx.DiGraph(G)))\n",
    "    di_graph_ac.append(average_local_clustering_directed(nx.DiGraph(G)))"
   ]
  },
  {
   "cell_type": "code",
   "execution_count": null,
   "metadata": {},
   "outputs": [],
   "source": [
    "# undirected case\n",
    "plt.loglog(ns, t, ls='None',marker='o', color='c')  # global clustering coefficient\n",
    "plt.loglog(ns, ac, ls='None',marker='o', color='r')  # mean local clustering coefficient\n",
    "plt.show()"
   ]
  },
  {
   "cell_type": "code",
   "execution_count": null,
   "metadata": {},
   "outputs": [],
   "source": [
    "# directed case\n",
    "plt.loglog(ns, di_graph_t, ls='None',marker='o', color='c')  # global clustering coefficient\n",
    "plt.loglog(ns, di_graph_ac, ls='None',marker='o', color='r')  # mean local clustering coefficient\n",
    "plt.show()"
   ]
  },
  {
   "cell_type": "markdown",
   "metadata": {},
   "source": [
    "# Problem 2"
   ]
  },
  {
   "cell_type": "markdown",
   "metadata": {},
   "source": [
    "Generate the sequence of random graphs $G_3^n$ in the Bollobas-Riordan model with $n = 100, 200, ..., 10000$. Find the number of triangles in the graphs of this sequence. Compare the results with the estimate from Ryabchenko-Samosvat theorem."
   ]
  },
  {
   "cell_type": "code",
   "execution_count": null,
   "metadata": {},
   "outputs": [],
   "source": [
    "from itertools import permutations\n",
    "# number of triangles around v\n",
    "def triangles_in_vertex(G, v):\n",
    "    res = 0\n",
    "    for u, w in permutations(G.neighbors(v), 2):\n",
    "        if len({u, v, w}) == 3:\n",
    "            res += G.number_of_edges(v, u) * G.number_of_edges(v, w) * G.number_of_edges(u, w)\n",
    "    return res\n",
    "\n",
    "# number of triangles in the graphs\n",
    "def get_triangles_count(G):\n",
    "    res = 0\n",
    "    for v in G.nodes():\n",
    "        res += triangles_in_vertex(G, v)\n",
    "    return res"
   ]
  },
  {
   "cell_type": "code",
   "execution_count": null,
   "metadata": {
    "scrolled": true
   },
   "outputs": [],
   "source": [
    "import numpy as np\n",
    "triangles = []\n",
    "ns = []\n",
    "m = 3\n",
    "\n",
    "for n in range(100, 10001, 100):\n",
    "    print(n)\n",
    "    G = generateBollobasRiordanGraph(n, m)\n",
    "    triangles_count = get_triangles_count(G)\n",
    "    triangles.append(triangles_count)\n",
    "    ns.append(n)"
   ]
  },
  {
   "cell_type": "markdown",
   "metadata": {},
   "source": [
    "Theorem (Ryabchenko, Samosvat). \n",
    "\n",
    "Let $m \\ge 1,\\ \\ G^n_m$ be the random graph in the Bollobas-Riordan model and $H$ be some fixed graph.\n",
    "\tThen\n",
    "\t\\begin{equation*}\n",
    "\t\t\\mathbb{E}\\left(\\#(H,G^n_m)\\right)\\asymp n^{\\#(d_i = 0)}(\\sqrt{n})^{\\#(d_i = 1)}(\\ln n)^{\\#(d_i = 2)},\n",
    "\t\\end{equation*} \n",
    "\twhere $\\#(d_i=k)$ is the number of nodes with degree $k$ in $H$."
   ]
  },
  {
   "cell_type": "code",
   "execution_count": null,
   "metadata": {},
   "outputs": [],
   "source": [
    "pylab.rcParams['figure.figsize'] = 10, 10\n",
    "\n",
    "plt.plot(ns, triangles, color='r', ls='None', marker='o', label=\"#triangles\")\n",
    "plt.plot(ns, [np.log(n)**3 for n in ns], color='g', label=\"(ln n)^3\")\n",
    "plt.title(\"#triangles (m = 3)\", fontsize=20)\n",
    "plt.ylabel(\"#triangles\", fontsize=20)\n",
    "plt.xlabel(\"n\", fontsize=20)\n",
    "plt.legend(fontsize=20)\n",
    "plt.show()"
   ]
  },
  {
   "cell_type": "markdown",
   "metadata": {},
   "source": [
    "# Problem 3"
   ]
  },
  {
   "cell_type": "markdown",
   "metadata": {},
   "source": [
    "Analyse the dependence between local clustering coefficients averaged over the nodes with the same degree from their degree (in the undirected case) in the Backley-Ostgus model with  $n=1000, m=2, a =0.27$ .\n"
   ]
  },
  {
   "cell_type": "code",
   "execution_count": null,
   "metadata": {},
   "outputs": [],
   "source": [
    "from collections import defaultdict"
   ]
  },
  {
   "cell_type": "code",
   "execution_count": null,
   "metadata": {},
   "outputs": [],
   "source": [
    "def generateSimpleBuckleyOsthusGraph(a,n):\n",
    "    G = nx.MultiDiGraph()\n",
    "    G.add_node(0)\n",
    "    G.add_edge(0,0)\n",
    "    p = [a+1]\n",
    "    while G.number_of_nodes() < n:\n",
    "        new_node = G.number_of_nodes()\n",
    "        G.add_node(new_node)\n",
    "        p.append(a)\n",
    "        probabilities = np.array(p)/((a+1.0)*new_node+a)\n",
    "        destination = np.random.choice(G.nodes(),1,p=probabilities)[0]\n",
    "        G.add_edge(new_node,destination)\n",
    "        p[destination] += 1\n",
    "    return G"
   ]
  },
  {
   "cell_type": "code",
   "execution_count": null,
   "metadata": {},
   "outputs": [],
   "source": [
    "def generateBuckleyOsthusGraph(a, n, m):\n",
    "    G1mn = generateSimpleBuckleyOsthusGraph(a, m*n)\n",
    "    G = nx.MultiDiGraph()\n",
    "    for u, v in G1mn.edges():\n",
    "        u_new, v_new = u // m, v // m\n",
    "        G.add_edge(u_new, v_new)\n",
    "    return G"
   ]
  },
  {
   "cell_type": "code",
   "execution_count": null,
   "metadata": {},
   "outputs": [],
   "source": [
    "n = 1000\n",
    "m = 2\n",
    "a = 0.27"
   ]
  },
  {
   "cell_type": "code",
   "execution_count": null,
   "metadata": {},
   "outputs": [],
   "source": [
    "G = generateBuckleyOsthusGraph(a,n,m)\n",
    "G_simple = nx.Graph(G) "
   ]
  },
  {
   "cell_type": "code",
   "execution_count": null,
   "metadata": {},
   "outputs": [],
   "source": [
    "clust_coeffs = nx.clustering(G_simple)\n",
    "degrees = nx.degree(G_simple)"
   ]
  },
  {
   "cell_type": "code",
   "execution_count": null,
   "metadata": {},
   "outputs": [],
   "source": [
    "print(clust_coeffs)"
   ]
  },
  {
   "cell_type": "code",
   "execution_count": null,
   "metadata": {
    "scrolled": true
   },
   "outputs": [],
   "source": [
    "print(degrees)"
   ]
  },
  {
   "cell_type": "code",
   "execution_count": null,
   "metadata": {},
   "outputs": [],
   "source": [
    "plt.loglog([value for _, value in degrees],clust_coeffs.values(),ls='None',marker='o')"
   ]
  },
  {
   "cell_type": "code",
   "execution_count": null,
   "metadata": {},
   "outputs": [],
   "source": [
    "unique_degrees = np.unique([value for _, value in degrees])\n",
    "clust_dict = {}\n",
    "for deg in unique_degrees:\n",
    "    nodes =[key for key, _ in filter(lambda x: x[1]==deg, degrees)]\n",
    "    clust_tmp = [clust_coeffs[key] for key in nodes]\n",
    "    clust_dict[deg] = np.mean(clust_tmp)"
   ]
  },
  {
   "cell_type": "code",
   "execution_count": null,
   "metadata": {
    "scrolled": true
   },
   "outputs": [],
   "source": [
    "clust_dict"
   ]
  },
  {
   "cell_type": "code",
   "execution_count": null,
   "metadata": {},
   "outputs": [],
   "source": [
    "plt.loglog(unique_degrees,clust_dict.values(),ls='None',marker='o')\n",
    "plt.loglog(unique_degrees, [1/x for x in unique_degrees])"
   ]
  },
  {
   "cell_type": "code",
   "execution_count": null,
   "metadata": {},
   "outputs": [],
   "source": []
  }
 ],
 "metadata": {
  "kernelspec": {
   "display_name": "Python 3",
   "language": "python",
   "name": "python3"
  },
  "language_info": {
   "codemirror_mode": {
    "name": "ipython",
    "version": 3
   },
   "file_extension": ".py",
   "mimetype": "text/x-python",
   "name": "python",
   "nbconvert_exporter": "python",
   "pygments_lexer": "ipython3",
   "version": "3.8.5"
  }
 },
 "nbformat": 4,
 "nbformat_minor": 4
}
