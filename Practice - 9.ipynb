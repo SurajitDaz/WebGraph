{
 "cells": [
  {
   "cell_type": "markdown",
   "metadata": {},
   "source": [
    "## Problem 1\n",
    "Implement the Kernigan-Lin algorithm. Test it in the problem of separation of the two independent Erdos-Renyi networks connected by several bridges  "
   ]
  },
  {
   "cell_type": "code",
   "execution_count": 36,
   "metadata": {},
   "outputs": [],
   "source": [
    "import networkx as nx\n",
    "import random"
   ]
  },
  {
   "cell_type": "code",
   "execution_count": 38,
   "metadata": {},
   "outputs": [],
   "source": [
    "def Kernigan_Lin_algo(G, n_part, n_rounds):\n",
    "    nodes = list(G.nodes())\n",
    "    n = G.number_of_nodes()\n",
    "    n1 = min(n_part, n - n_part)\n",
    "    n2 = n - n1\n",
    "\n",
    "    group_1 = random.sample(nodes, k = n1)\n",
    "    group_2 = [x for x in nodes if not x in group_1]\n",
    "    cut_size = cut_size_calc(G, group_1, group_2)\n",
    "\n",
    "    for i in range(n_rounds):\n",
    "        print(i)\n",
    "        groups_list = [group_1.copy()]\n",
    "        cut_sizes_list = [cut_size]\n",
    "\n",
    "        nodes_dict = {node: False for node in nodes}\n",
    "        sum_1 = sum([nodes_dict[node] for node in group_1])\n",
    "        sum_2 = sum([nodes_dict[node] for node in group_2])\n",
    "        while (sum_1 < n1 and sum_2 < n2 ):\n",
    "            nodes_1_list = [x for x in group_1 if not nodes_dict[x]]\n",
    "            nodes_2_list = [x for x in group_2 if not nodes_dict[x]]\n",
    "            cut_sizes_tmp = {}\n",
    "            for node_1 in nodes_1_list:\n",
    "                for node_2 in nodes_2_list:\n",
    "                    g1_tmp = group_1.copy()\n",
    "                    g1_tmp.remove(node_1)\n",
    "                    g1_tmp.append(node_2)\n",
    "\n",
    "                    g2_tmp = group_2.copy()\n",
    "                    g2_tmp.remove(node_2)\n",
    "                    g2_tmp.append(node_1)\n",
    "                    cut_size_tmp = cut_size_calc(G, g1_tmp, g2_tmp)\n",
    "                    cut_sizes_tmp[(node_1, node_2)] = cut_size_tmp\n",
    "\n",
    "            (node_1,node_2), cut_size = min(cut_sizes_tmp.items(), key = lambda x: x[1])\n",
    "            group_1.remove(node_1)\n",
    "            group_1.append(node_2)\n",
    "            group_2.remove(node_2)\n",
    "            group_2.append(node_1)\n",
    "            nodes_dict[node_1] = True\n",
    "            nodes_dict[node_2] = True\n",
    "            sum_1 = sum([nodes_dict[node] for node in group_1])\n",
    "            sum_2 = sum([nodes_dict[node] for node in group_2])\n",
    "            groups_list.append(group_1.copy())\n",
    "            cut_sizes_list.append(cut_size)\n",
    "        index_min = cut_sizes_list.index(min(cut_sizes_list))\n",
    "        group_1 = groups_list[index_min]\n",
    "        group_2 = [x for x in nodes if not x in group_1]\n",
    "    return group_1, group_2"
   ]
  },
  {
   "cell_type": "code",
   "execution_count": 37,
   "metadata": {},
   "outputs": [],
   "source": [
    "def cut_size_calc(G, group1, group2):\n",
    "    cut_size = 0\n",
    "    for u, v in G.edges():\n",
    "        if ((u in group1 and v in group2) or (u in group2 and v in group1)):\n",
    "            cut_size += 1\n",
    "    return cut_size\n",
    "    "
   ]
  },
  {
   "cell_type": "code",
   "execution_count": 64,
   "metadata": {},
   "outputs": [
    {
     "data": {
      "text/plain": [
       "50"
      ]
     },
     "execution_count": 64,
     "metadata": {},
     "output_type": "execute_result"
    }
   ],
   "source": [
    "G1 = nx.erdos_renyi_graph(30, 0.2)\n",
    "G2 = nx.erdos_renyi_graph(20, 0.2)\n",
    "n1 = G1.number_of_nodes()\n",
    "G = nx.Graph()\n",
    "\n",
    "for u, v in G1.edges():\n",
    "    G.add_edge(u,v)\n",
    "for u, v in G2.edges():\n",
    "    G.add_edge(n1+u, n1+v)\n",
    "\n",
    "n_bridges = 20\n",
    "for i in range(n_bridges):\n",
    "    G.add_edge(i, n1+i)\n",
    "G.number_of_nodes()"
   ]
  },
  {
   "cell_type": "code",
   "execution_count": 65,
   "metadata": {},
   "outputs": [
    {
     "name": "stdout",
     "output_type": "stream",
     "text": [
      "0\n",
      "1\n",
      "2\n",
      "3\n",
      "4\n",
      "5\n",
      "6\n",
      "7\n",
      "8\n",
      "9\n"
     ]
    }
   ],
   "source": [
    "group_1, group_2 = Kernigan_Lin_algo(G, n1, 10)"
   ]
  },
  {
   "cell_type": "code",
   "execution_count": 66,
   "metadata": {},
   "outputs": [
    {
     "data": {
      "text/plain": [
       "34"
      ]
     },
     "execution_count": 66,
     "metadata": {},
     "output_type": "execute_result"
    }
   ],
   "source": [
    "cut_size_calc(G, group_1, group_2)"
   ]
  },
  {
   "cell_type": "code",
   "execution_count": 46,
   "metadata": {},
   "outputs": [
    {
     "data": {
      "text/plain": [
       "[30,\n",
       " 31,\n",
       " 32,\n",
       " 33,\n",
       " 34,\n",
       " 35,\n",
       " 36,\n",
       " 37,\n",
       " 38,\n",
       " 39,\n",
       " 40,\n",
       " 41,\n",
       " 42,\n",
       " 43,\n",
       " 44,\n",
       " 45,\n",
       " 46,\n",
       " 47,\n",
       " 48,\n",
       " 49]"
      ]
     },
     "execution_count": 46,
     "metadata": {},
     "output_type": "execute_result"
    }
   ],
   "source": [
    "sorted(group_1)"
   ]
  },
  {
   "cell_type": "code",
   "execution_count": 47,
   "metadata": {},
   "outputs": [
    {
     "data": {
      "text/plain": [
       "[0,\n",
       " 1,\n",
       " 2,\n",
       " 3,\n",
       " 4,\n",
       " 5,\n",
       " 6,\n",
       " 7,\n",
       " 8,\n",
       " 9,\n",
       " 10,\n",
       " 11,\n",
       " 12,\n",
       " 13,\n",
       " 14,\n",
       " 15,\n",
       " 16,\n",
       " 17,\n",
       " 18,\n",
       " 19,\n",
       " 20,\n",
       " 21,\n",
       " 22,\n",
       " 23,\n",
       " 24,\n",
       " 25,\n",
       " 26,\n",
       " 27,\n",
       " 28,\n",
       " 29]"
      ]
     },
     "execution_count": 47,
     "metadata": {},
     "output_type": "execute_result"
    }
   ],
   "source": [
    "sorted(group_2)"
   ]
  },
  {
   "cell_type": "markdown",
   "metadata": {},
   "source": [
    "## Problem 2\n",
    "Implement the Spectral partitioning algorithm. Test it in the problem of separation of the two independent Erdos-Renyi networks connected by several bridges  "
   ]
  },
  {
   "cell_type": "code",
   "execution_count": 49,
   "metadata": {},
   "outputs": [],
   "source": [
    "import numpy as np"
   ]
  },
  {
   "cell_type": "code",
   "execution_count": 50,
   "metadata": {},
   "outputs": [],
   "source": [
    "def spectral_algo(G, n_part):\n",
    "    nodes = list(G.nodes())\n",
    "    n = G.number_of_nodes()\n",
    "    n1 = min(n_part, n - n_part)\n",
    "    n2 = n - n1\n",
    "    \n",
    "    A = nx.adjacency_matrix(G)\n",
    "    D = np.diag(list(dict(G.degree()).values()))\n",
    "    L = D - A\n",
    "    \n",
    "    values, vectors = np.linalg.eig(L)\n",
    "    v2 = min([v for v in values if v > 1e-10])\n",
    "    index = list(values).index(v2)\n",
    "    vect = np.array(np.transpose(vectors[:,index]))[0]\n",
    "    vect_items = [(nodes[i],vect[i]) for i in range(G.number_of_nodes())]\n",
    "    vect_items = sorted(vect_items, key = lambda x: x[1], reverse=True)\n",
    "\n",
    "    group_1_1 = [x[0] for x in vect_items[:n1]]\n",
    "    group_2_1 = [x for x in nodes if not x in group_1_1]\n",
    "    cut_size_1 = cut_size_calc(G,group_1_1, group_2_1)\n",
    "    \n",
    "    group_1_2 = [x[0] for x in vect_items[:n2]]\n",
    "    group_2_2 = [x for x in nodes if not x in group_1_2]\n",
    "    cut_size_2 = cut_size_calc(G,group_1_2, group_2_2)\n",
    "    \n",
    "    if cut_size_1 > cut_size_2:\n",
    "        return group_1_2, group_2_2\n",
    "    \n",
    "    return group_1_1, group_2_1"
   ]
  },
  {
   "cell_type": "code",
   "execution_count": 61,
   "metadata": {},
   "outputs": [
    {
     "data": {
      "text/plain": [
       "50"
      ]
     },
     "execution_count": 61,
     "metadata": {},
     "output_type": "execute_result"
    }
   ],
   "source": [
    "G1 = nx.erdos_renyi_graph(30, 0.2)\n",
    "G2 = nx.erdos_renyi_graph(20, 0.2)\n",
    "n1 = G1.number_of_nodes()\n",
    "G = nx.Graph()\n",
    "\n",
    "for u, v in G1.edges():\n",
    "    G.add_edge(u,v)\n",
    "for u, v in G2.edges():\n",
    "    G.add_edge(n1+u, n1+v)\n",
    "\n",
    "n_bridges = 20\n",
    "for i in range(n_bridges):\n",
    "    G.add_edge(i, G1.number_of_nodes()+i)\n",
    "\n",
    "G.number_of_nodes()"
   ]
  },
  {
   "cell_type": "code",
   "execution_count": 62,
   "metadata": {},
   "outputs": [],
   "source": [
    "group_1, group_2 = spectral_algo(G, n1)"
   ]
  },
  {
   "cell_type": "code",
   "execution_count": 63,
   "metadata": {},
   "outputs": [
    {
     "data": {
      "text/plain": [
       "37"
      ]
     },
     "execution_count": 63,
     "metadata": {},
     "output_type": "execute_result"
    }
   ],
   "source": [
    "cut_size_calc(G, group_1, group_2)"
   ]
  },
  {
   "cell_type": "code",
   "execution_count": 54,
   "metadata": {},
   "outputs": [
    {
     "data": {
      "text/plain": [
       "20"
      ]
     },
     "execution_count": 54,
     "metadata": {},
     "output_type": "execute_result"
    }
   ],
   "source": [
    "len(group_1)"
   ]
  },
  {
   "cell_type": "code",
   "execution_count": 55,
   "metadata": {},
   "outputs": [
    {
     "data": {
      "text/plain": [
       "30"
      ]
     },
     "execution_count": 55,
     "metadata": {},
     "output_type": "execute_result"
    }
   ],
   "source": [
    "len(group_2)"
   ]
  },
  {
   "cell_type": "code",
   "execution_count": 56,
   "metadata": {},
   "outputs": [
    {
     "data": {
      "text/plain": [
       "[30,\n",
       " 31,\n",
       " 32,\n",
       " 33,\n",
       " 34,\n",
       " 35,\n",
       " 36,\n",
       " 37,\n",
       " 38,\n",
       " 39,\n",
       " 40,\n",
       " 41,\n",
       " 42,\n",
       " 43,\n",
       " 44,\n",
       " 45,\n",
       " 46,\n",
       " 47,\n",
       " 48,\n",
       " 49]"
      ]
     },
     "execution_count": 56,
     "metadata": {},
     "output_type": "execute_result"
    }
   ],
   "source": [
    "sorted(group_1)"
   ]
  },
  {
   "cell_type": "code",
   "execution_count": 57,
   "metadata": {},
   "outputs": [
    {
     "data": {
      "text/plain": [
       "[0,\n",
       " 1,\n",
       " 2,\n",
       " 3,\n",
       " 4,\n",
       " 5,\n",
       " 6,\n",
       " 7,\n",
       " 8,\n",
       " 9,\n",
       " 10,\n",
       " 11,\n",
       " 12,\n",
       " 13,\n",
       " 14,\n",
       " 15,\n",
       " 16,\n",
       " 17,\n",
       " 18,\n",
       " 19,\n",
       " 20,\n",
       " 21,\n",
       " 22,\n",
       " 23,\n",
       " 24,\n",
       " 25,\n",
       " 26,\n",
       " 27,\n",
       " 28,\n",
       " 29]"
      ]
     },
     "execution_count": 57,
     "metadata": {},
     "output_type": "execute_result"
    }
   ],
   "source": [
    "sorted(group_2)"
   ]
  },
  {
   "cell_type": "markdown",
   "metadata": {},
   "source": [
    "## Problem 3\n",
    "Resolve the problem of identification of the three independent Erdos-Renyi networks connected by several bridges  "
   ]
  },
  {
   "cell_type": "code",
   "execution_count": 67,
   "metadata": {},
   "outputs": [
    {
     "data": {
      "text/plain": [
       "90"
      ]
     },
     "execution_count": 67,
     "metadata": {},
     "output_type": "execute_result"
    }
   ],
   "source": [
    "G1 = nx.erdos_renyi_graph(30, 0.2)\n",
    "G2 = nx.erdos_renyi_graph(30, 0.2)\n",
    "G3 = nx.erdos_renyi_graph(30, 0.2)\n",
    "\n",
    "n1 = G1.number_of_nodes()\n",
    "n2 = G2.number_of_nodes()\n",
    "\n",
    "G = nx.Graph()\n",
    "\n",
    "for u, v in G1.edges():\n",
    "    G.add_edge(u,v)\n",
    "for u, v in G2.edges():\n",
    "    G.add_edge(n1+u, n1+v)\n",
    "for u, v in G3.edges():\n",
    "    G.add_edge(n1+n2+u, n1+n2+v)\n",
    "\n",
    "n_bridges = 20\n",
    "for i in range(n_bridges):\n",
    "    if i < n_bridges / 2:\n",
    "        G.add_edge(i, n1+i)\n",
    "    else:\n",
    "        G.add_edge(i, n1+n2+i)\n",
    "\n",
    "G.number_of_nodes()"
   ]
  },
  {
   "cell_type": "code",
   "execution_count": 68,
   "metadata": {},
   "outputs": [],
   "source": [
    "ini_group_1, ini_group_2 = spectral_algo(G, n1)"
   ]
  },
  {
   "cell_type": "code",
   "execution_count": 69,
   "metadata": {},
   "outputs": [],
   "source": [
    "if len(ini_group_1) == n1:\n",
    "    group_1 = ini_group_1.copy()\n",
    "else:\n",
    "    group_1 = ini_group_2.copy()"
   ]
  },
  {
   "cell_type": "code",
   "execution_count": 70,
   "metadata": {},
   "outputs": [
    {
     "data": {
      "text/plain": [
       "[60,\n",
       " 61,\n",
       " 62,\n",
       " 63,\n",
       " 64,\n",
       " 65,\n",
       " 66,\n",
       " 67,\n",
       " 68,\n",
       " 69,\n",
       " 70,\n",
       " 71,\n",
       " 72,\n",
       " 73,\n",
       " 74,\n",
       " 75,\n",
       " 76,\n",
       " 77,\n",
       " 78,\n",
       " 79,\n",
       " 80,\n",
       " 81,\n",
       " 82,\n",
       " 83,\n",
       " 84,\n",
       " 85,\n",
       " 86,\n",
       " 87,\n",
       " 88,\n",
       " 89]"
      ]
     },
     "execution_count": 70,
     "metadata": {},
     "output_type": "execute_result"
    }
   ],
   "source": [
    "sorted(group_1)"
   ]
  },
  {
   "cell_type": "code",
   "execution_count": 71,
   "metadata": {},
   "outputs": [],
   "source": [
    "G_tmp = G.copy()\n",
    "for node in group_1:\n",
    "    G_tmp.remove_node(node)\n",
    "group_2, group_3 = spectral_algo(G_tmp, n2)"
   ]
  },
  {
   "cell_type": "code",
   "execution_count": 72,
   "metadata": {},
   "outputs": [
    {
     "data": {
      "text/plain": [
       "[30,\n",
       " 31,\n",
       " 32,\n",
       " 33,\n",
       " 34,\n",
       " 35,\n",
       " 36,\n",
       " 37,\n",
       " 38,\n",
       " 39,\n",
       " 40,\n",
       " 41,\n",
       " 42,\n",
       " 43,\n",
       " 44,\n",
       " 45,\n",
       " 46,\n",
       " 47,\n",
       " 48,\n",
       " 49,\n",
       " 50,\n",
       " 51,\n",
       " 52,\n",
       " 53,\n",
       " 54,\n",
       " 55,\n",
       " 56,\n",
       " 57,\n",
       " 58,\n",
       " 59]"
      ]
     },
     "execution_count": 72,
     "metadata": {},
     "output_type": "execute_result"
    }
   ],
   "source": [
    "sorted(group_2)"
   ]
  },
  {
   "cell_type": "code",
   "execution_count": 73,
   "metadata": {},
   "outputs": [
    {
     "data": {
      "text/plain": [
       "[0,\n",
       " 1,\n",
       " 2,\n",
       " 3,\n",
       " 4,\n",
       " 5,\n",
       " 6,\n",
       " 7,\n",
       " 8,\n",
       " 9,\n",
       " 10,\n",
       " 11,\n",
       " 12,\n",
       " 13,\n",
       " 14,\n",
       " 15,\n",
       " 16,\n",
       " 17,\n",
       " 18,\n",
       " 19,\n",
       " 20,\n",
       " 21,\n",
       " 22,\n",
       " 23,\n",
       " 24,\n",
       " 25,\n",
       " 26,\n",
       " 27,\n",
       " 28,\n",
       " 29]"
      ]
     },
     "execution_count": 73,
     "metadata": {},
     "output_type": "execute_result"
    }
   ],
   "source": [
    "sorted(group_3)"
   ]
  },
  {
   "cell_type": "markdown",
   "metadata": {},
   "source": [
    "## Problem 4\n",
    "Analyze how spectral partitioning into two equal sizes works for the Erdos-Renyi graph with different density. Compare the results with the cases of random partition. "
   ]
  },
  {
   "cell_type": "code",
   "execution_count": 74,
   "metadata": {},
   "outputs": [
    {
     "name": "stdout",
     "output_type": "stream",
     "text": [
      "0.1\n",
      "0.2\n",
      "0.3\n",
      "0.4\n",
      "0.5\n",
      "0.6\n",
      "0.7\n",
      "0.8\n",
      "0.9\n"
     ]
    }
   ],
   "source": [
    "p_list = [x/10 for x in range(1,10)]\n",
    "n = 100\n",
    "n1 = n // 2\n",
    "\n",
    "n_random = 100\n",
    "cs_list = []\n",
    "\n",
    "cs_list_random_mean = []\n",
    "cs_list_random_sd = []\n",
    "\n",
    "for p in p_list:\n",
    "    print(p)\n",
    "    G = nx.erdos_renyi_graph(n, p)\n",
    "    group_1, group_2 = spectral_algo(G, n1)\n",
    "    cs = cut_size_calc(G, group_1, group_2)\n",
    "    cs_list.append(cs)\n",
    "    \n",
    "    nodes = list(G.nodes())\n",
    "    cs_random_tmp = []\n",
    "    for _ in range(n_random):\n",
    "        group_1 = random.sample(nodes, k = n1)\n",
    "        group_2 = [x for x in nodes if not x in group_1]\n",
    "        cs_random = cut_size_calc(G, group_1, group_2)\n",
    "        cs_random_tmp.append(cs_random)\n",
    "    cs_list_random_mean.append(np.mean(cs_random_tmp))\n",
    "    cs_list_random_sd.append(np.std(cs_random_tmp))"
   ]
  },
  {
   "cell_type": "code",
   "execution_count": 75,
   "metadata": {},
   "outputs": [],
   "source": [
    "import matplotlib.pyplot as plt"
   ]
  },
  {
   "cell_type": "code",
   "execution_count": 76,
   "metadata": {},
   "outputs": [
    {
     "data": {
      "text/plain": [
       "<matplotlib.legend.Legend at 0x23f427d1070>"
      ]
     },
     "execution_count": 76,
     "metadata": {},
     "output_type": "execute_result"
    },
    {
     "data": {
      "image/png": "[encoded data removed]",
      "text/plain": [
       "<Figure size 432x288 with 1 Axes>"
      ]
     },
     "metadata": {
      "needs_background": "light"
     },
     "output_type": "display_data"
    }
   ],
   "source": [
    "plt.plot(p_list, cs_list, label = 'spectral')\n",
    "plt.plot(p_list, cs_list_random_mean, color = 'red', label = 'random')\n",
    "plt.plot(p_list, [cs_list_random_mean[i] - cs_list_random_sd[i] for i in range(len(p_list))], color = 'red', ls = '--')\n",
    "plt.plot(p_list, [cs_list_random_mean[i] + cs_list_random_sd[i] for i in range(len(p_list))], color = 'red', ls = '--')\n",
    "plt.xlabel('p')\n",
    "plt.ylabel('Cut size')\n",
    "plt.legend()"
   ]
  },
  {
   "cell_type": "code",
   "execution_count": 77,
   "metadata": {},
   "outputs": [
    {
     "name": "stdout",
     "output_type": "stream",
     "text": [
      "0.1\n",
      "0.2\n",
      "0.3\n",
      "0.4\n",
      "0.5\n",
      "0.6\n",
      "0.7\n",
      "0.8\n",
      "0.9\n"
     ]
    }
   ],
   "source": [
    "p_list = [x/10 for x in range(1,10)]\n",
    "n = 100\n",
    "n1 = n // 2\n",
    "\n",
    "n_random = 100\n",
    "cs_list = []\n",
    "\n",
    "cs_list_random_mean = []\n",
    "cs_list_random_sd = []\n",
    "\n",
    "for p in p_list:\n",
    "    print(p)\n",
    "    G1 = nx.erdos_renyi_graph(n1, p)\n",
    "    G2 = nx.erdos_renyi_graph(n1, p)\n",
    "    G = nx.Graph()\n",
    "\n",
    "    for u, v in G1.edges():\n",
    "        G.add_edge(u,v)\n",
    "    for u, v in G2.edges():\n",
    "        G.add_edge(n1+u, n1+v)\n",
    "\n",
    "    n_bridges = 40\n",
    "    for i in range(n_bridges):\n",
    "        G.add_edge(i, G1.number_of_nodes()+i)\n",
    "\n",
    "    group_1, group_2 = spectral_algo(G, n1)\n",
    "    cs = cut_size_calc(G, group_1, group_2)\n",
    "    cs_list.append(cs)\n",
    "    \n",
    "    nodes = list(G.nodes())\n",
    "    cs_random_tmp = []\n",
    "    for _ in range(n_random):\n",
    "        group_1 = random.sample(nodes, k = n1)\n",
    "        group_2 = [x for x in nodes if not x in group_1]\n",
    "        cs_random = cut_size_calc(G, group_1, group_2)\n",
    "        cs_random_tmp.append(cs_random)\n",
    "    cs_list_random_mean.append(np.mean(cs_random_tmp))\n",
    "    cs_list_random_sd.append(np.std(cs_random_tmp))"
   ]
  },
  {
   "cell_type": "code",
   "execution_count": 78,
   "metadata": {},
   "outputs": [
    {
     "data": {
      "text/plain": [
       "<matplotlib.legend.Legend at 0x23f433a9a90>"
      ]
     },
     "execution_count": 78,
     "metadata": {},
     "output_type": "execute_result"
    },
    {
     "data": {
      "image/png": "[encoded data removed]",
      "text/plain": [
       "<Figure size 432x288 with 1 Axes>"
      ]
     },
     "metadata": {
      "needs_background": "light"
     },
     "output_type": "display_data"
    }
   ],
   "source": [
    "plt.plot(p_list, cs_list, label = 'spectral')\n",
    "plt.plot(p_list, cs_list_random_mean, color = 'red', label = 'random')\n",
    "plt.plot(p_list, [cs_list_random_mean[i] - cs_list_random_sd[i] for i in range(len(p_list))], color = 'red', ls = '--')\n",
    "plt.plot(p_list, [cs_list_random_mean[i] + cs_list_random_sd[i] for i in range(len(p_list))], color = 'red', ls = '--')\n",
    "plt.xlabel('p')\n",
    "plt.ylabel('Cut size')\n",
    "plt.legend()"
   ]
  },
  {
   "cell_type": "code",
   "execution_count": null,
   "metadata": {},
   "outputs": [],
   "source": [
    "cs_list"
   ]
  },
  {
   "cell_type": "code",
   "execution_count": null,
   "metadata": {},
   "outputs": [],
   "source": []
  }
 ],
 "metadata": {
  "kernelspec": {
   "display_name": "Python 3",
   "language": "python",
   "name": "python3"
  },
  "language_info": {
   "codemirror_mode": {
    "name": "ipython",
    "version": 3
   },
   "file_extension": ".py",
   "mimetype": "text/x-python",
   "name": "python",
   "nbconvert_exporter": "python",
   "pygments_lexer": "ipython3",
   "version": "3.8.5"
  }
 },
 "nbformat": 4,
 "nbformat_minor": 4
}
