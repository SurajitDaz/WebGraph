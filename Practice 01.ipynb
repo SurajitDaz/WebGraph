{
 "cells": [
  {
   "cell_type": "code",
   "execution_count": null,
   "metadata": {},
   "outputs": [],
   "source": [
    "import networkx as nx\n",
    "import matplotlib.pyplot as plt\n",
    "from collections import Counter"
   ]
  },
  {
   "cell_type": "markdown",
   "metadata": {},
   "source": [
    "# Problem 1"
   ]
  },
  {
   "cell_type": "markdown",
   "metadata": {},
   "source": [
    "Analyse the part of the web-graph given in edges.txt. In particular, find\n",
    "1. giant weakly connected component's size\n",
    "2. giant strongly connected component's size\n",
    "3. giant In- and Out- components' sizes \n",
    "3. weakly connected components' sizes distribution\n",
    "4. (in-,out-,tot-)degree distribution"
   ]
  },
  {
   "cell_type": "code",
   "execution_count": null,
   "metadata": {},
   "outputs": [],
   "source": [
    "filename = 'edges.txt'\n",
    "G = nx.read_edgelist(filename, create_using = nx.MultiDiGraph)"
   ]
  },
  {
   "cell_type": "code",
   "execution_count": null,
   "metadata": {},
   "outputs": [],
   "source": [
    "n = len(G.nodes)\n",
    "n_edges = len(G.edges)\n",
    "print(f'number of nodes = {n}')\n",
    "print(f'number of edges = {n_edges}')"
   ]
  },
  {
   "cell_type": "code",
   "execution_count": null,
   "metadata": {},
   "outputs": [],
   "source": [
    "wcc_list = list(nx.weakly_connected_components(G))\n",
    "wcc_list = sorted(wcc_list, key = len, reverse=True)\n",
    "\n",
    "print(f'number of weakly connected componets = {len(wcc_list)}')\n",
    "print(f'size of GWCC = {len(wcc_list[0])/len(G.nodes)}')\n",
    "print(f'size of second WCC = {len(wcc_list[1])/len(G.nodes)}')"
   ]
  },
  {
   "cell_type": "code",
   "execution_count": null,
   "metadata": {},
   "outputs": [],
   "source": [
    "scc_list = list(nx.strongly_connected_components(G))\n",
    "scc_list = sorted(scc_list, key = len, reverse=True)\n",
    "\n",
    "print(f'number of strongly connected componets = {len(scc_list)}')\n",
    "print(f'size of GSCC = {len(scc_list[0])/len(G.nodes)}')\n",
    "print(f'size of second SCC = {len(scc_list[1])/len(G.nodes)}')"
   ]
  },
  {
   "cell_type": "code",
   "execution_count": null,
   "metadata": {},
   "outputs": [],
   "source": [
    "nodes_in_gwcc = list(wcc_list[0])\n",
    "nodes_in_gscc = list(scc_list[0])\n",
    "\n",
    "in_nodes = []\n",
    "out_nodes = []\n",
    "\n",
    "for node in nodes_in_gwcc:\n",
    "    if not node in nodes_in_gscc:\n",
    "        if nx.has_path(G, node, nodes_in_gscc[0]):\n",
    "            in_nodes.append(node)\n",
    "        elif nx.has_path(G, nodes_in_gscc[0], node):\n",
    "            out_nodes.append(node)\n",
    "\n",
    "print(f'In component size = {len(in_nodes)/n}')\n",
    "print(f'Out component size = {len(out_nodes)/n}')\n",
    "print(f'In + Out + SCC size to WCC = {(len(out_nodes) + len(in_nodes) + len(nodes_in_gscc))/len(nodes_in_gwcc)}')"
   ]
  },
  {
   "cell_type": "code",
   "execution_count": null,
   "metadata": {},
   "outputs": [],
   "source": [
    "wcc_sizes =[len(x) for x in wcc_list]\n",
    "wcc_sizes_counts = Counter(wcc_sizes)"
   ]
  },
  {
   "cell_type": "code",
   "execution_count": null,
   "metadata": {},
   "outputs": [],
   "source": [
    "plt.loglog(list(wcc_sizes_counts.keys()), \n",
    "           list(wcc_sizes_counts.values()), ls='None', marker='.')\n",
    "plt.xlabel('WCC size')\n",
    "plt.ylabel('Counts')\n",
    "plt.title('WCC sizes distribution')"
   ]
  },
  {
   "cell_type": "code",
   "execution_count": null,
   "metadata": {},
   "outputs": [],
   "source": [
    "in_degrees = dict(G.in_degree)\n",
    "in_degrees_counts = Counter(list(in_degrees.values()))"
   ]
  },
  {
   "cell_type": "code",
   "execution_count": null,
   "metadata": {},
   "outputs": [],
   "source": [
    "plt.loglog(list(in_degrees_counts.keys()), \n",
    "           list(in_degrees_counts.values()), ls='None', marker='.')\n",
    "plt.xlabel('In-degree')\n",
    "plt.ylabel('Counts')\n",
    "plt.title('In-degree distribution')"
   ]
  },
  {
   "cell_type": "code",
   "execution_count": null,
   "metadata": {},
   "outputs": [],
   "source": [
    "out_degrees = dict(G.out_degree)\n",
    "out_degrees_counts = Counter(list(out_degrees.values()))"
   ]
  },
  {
   "cell_type": "code",
   "execution_count": null,
   "metadata": {},
   "outputs": [],
   "source": [
    "plt.loglog(list(out_degrees_counts.keys()), \n",
    "           list(out_degrees_counts.values()), ls='None', marker='.')\n",
    "plt.xlabel('Out-degree')\n",
    "plt.ylabel('Counts')\n",
    "plt.title('Out-degree distribution')"
   ]
  },
  {
   "cell_type": "code",
   "execution_count": null,
   "metadata": {},
   "outputs": [],
   "source": [
    "degrees = dict(G.degree)\n",
    "degrees_counts = Counter(list(degrees.values()))"
   ]
  },
  {
   "cell_type": "code",
   "execution_count": null,
   "metadata": {},
   "outputs": [],
   "source": [
    "plt.loglog(list(degrees_counts.keys()), \n",
    "           list(degrees_counts.values()), ls='None', marker='.')\n",
    "plt.xlabel('Total-degree')\n",
    "plt.ylabel('Counts')\n",
    "plt.title('Total-degree distribution')"
   ]
  },
  {
   "cell_type": "code",
   "execution_count": null,
   "metadata": {},
   "outputs": [],
   "source": [
    "from scipy.optimize import curve_fit\n",
    "import numpy as np\n",
    "\n",
    "def power_law(d, c, gamma):\n",
    "    return c / (d ** gamma)\n",
    "\n",
    "degrees_list = list(degrees_counts.keys())\n",
    "counts_list = list(degrees_counts.values())\n",
    "\n",
    "h1, h2 = 8, 110\n",
    "\n",
    "xdata = np.array([x for x in degrees_list if x <= h2 and x>= h1])\n",
    "ydata = np.array([counts_list[i] for i in range(len(counts_list)) \n",
    "                  if degrees_list[i] >= h1 and degrees_list[i] <= h2])\n",
    "popt, pcov = curve_fit(power_law, xdata, ydata)\n",
    "c, gamma = popt"
   ]
  },
  {
   "cell_type": "code",
   "execution_count": null,
   "metadata": {},
   "outputs": [],
   "source": [
    "c"
   ]
  },
  {
   "cell_type": "code",
   "execution_count": null,
   "metadata": {},
   "outputs": [],
   "source": [
    "gamma"
   ]
  },
  {
   "cell_type": "code",
   "execution_count": null,
   "metadata": {},
   "outputs": [],
   "source": [
    "plt.loglog(list(degrees_counts.keys()), \n",
    "           list(degrees_counts.values()), ls='None', marker='.')\n",
    "estimated = [power_law(x, c, gamma) for x in degrees_list]\n",
    "plt.loglog(degrees_list, estimated, ls = '--', color = 'r')\n",
    "plt.xlabel('Total-degree')\n",
    "plt.ylabel('Counts')\n",
    "plt.title('Total-degree distribution')"
   ]
  },
  {
   "cell_type": "markdown",
   "metadata": {},
   "source": [
    "# Problem 2"
   ]
  },
  {
   "cell_type": "markdown",
   "metadata": {},
   "source": [
    "Analyze stability and vulnerability of the giant (weakly) connected component in the part of the web-graph given in edges.txt."
   ]
  },
  {
   "cell_type": "code",
   "execution_count": null,
   "metadata": {},
   "outputs": [],
   "source": [
    "import random\n",
    "\n",
    "p = 0.5\n",
    "\n",
    "H = G.copy()\n",
    "H = nx.Graph(H)\n",
    "\n",
    "comps = list(nx.connected_components(H))\n",
    "comps = sorted(comps, key = len, reverse=True)\n",
    "n = len(H.nodes)\n",
    "print(f'n = {n} || giant component size = {len(comps[0])/n}')"
   ]
  },
  {
   "cell_type": "code",
   "execution_count": null,
   "metadata": {},
   "outputs": [],
   "source": [
    "nodes = list(H.nodes)\n",
    "for node in nodes:\n",
    "    if random.random() < p:\n",
    "        H.remove_node(node)\n",
    "comps = list(nx.connected_components(H))\n",
    "comps = sorted(comps, key = len, reverse=True)\n",
    "n = len(H.nodes)\n",
    "print(f'n = {n} || giant component size = {len(comps[0])/n}')"
   ]
  },
  {
   "cell_type": "code",
   "execution_count": null,
   "metadata": {},
   "outputs": [],
   "source": [
    "H = G.copy()\n",
    "H = nx.Graph(H)\n",
    "\n",
    "degrees = dict(H.degree)\n",
    "degrees = sorted(degrees.items(), key = lambda x:x[1], reverse=True)\n",
    "n = len(G.nodes)\n",
    "c_list = []\n",
    "comp_size = []\n",
    "i = 0\n",
    "for node,_ in degrees[:6000]:\n",
    "    i += 1\n",
    "    H.remove_node(node)\n",
    "    if i%100 == 0:\n",
    "        print(i)\n",
    "        comps = list(nx.connected_components(H))\n",
    "        comps = sorted(comps, key = len, reverse=True)\n",
    "        c_list.append(i/n)\n",
    "        comp_size.append(len(comps[0])/len(H.nodes))\n",
    "    "
   ]
  },
  {
   "cell_type": "code",
   "execution_count": null,
   "metadata": {},
   "outputs": [],
   "source": [
    "plt.plot(c_list,comp_size)"
   ]
  },
  {
   "cell_type": "markdown",
   "metadata": {},
   "source": [
    "# Problem 3"
   ]
  },
  {
   "cell_type": "markdown",
   "metadata": {},
   "source": [
    "Analyze degree distribution of a random graph in Erdős–Rényi model with the same nodes count as in the part of the web-graph analyzed above"
   ]
  },
  {
   "cell_type": "code",
   "execution_count": null,
   "metadata": {},
   "outputs": [],
   "source": [
    "n = 10000\n",
    "p = 0.003\n",
    "ER = nx.erdos_renyi_graph(n,p)\n",
    "er_degrees = dict(ER.degree)\n",
    "er_degrees_counts = Counter(list(er_degrees.values()))"
   ]
  },
  {
   "cell_type": "code",
   "execution_count": null,
   "metadata": {},
   "outputs": [],
   "source": [
    "degrees = dict(G.degree)\n",
    "degrees_counts = Counter(list(degrees.values()))"
   ]
  },
  {
   "cell_type": "code",
   "execution_count": null,
   "metadata": {},
   "outputs": [],
   "source": [
    "plt.loglog(list(degrees_counts.keys()), \n",
    "           list(degrees_counts.values()), ls='None', marker='.')\n",
    "plt.loglog(list(er_degrees_counts.keys()), \n",
    "           list(er_degrees_counts.values()), ls='None', marker='.', color='r')\n",
    "plt.xlabel('Total-degree')\n",
    "plt.ylabel('Counts')\n",
    "plt.title('Total-degree distribution')"
   ]
  },
  {
   "cell_type": "markdown",
   "metadata": {},
   "source": [
    "# Problem 4"
   ]
  },
  {
   "cell_type": "markdown",
   "metadata": {},
   "source": [
    "Analyze stability and vulnerability of the giant connected component in the Erdős–Rényi random graph"
   ]
  },
  {
   "cell_type": "code",
   "execution_count": null,
   "metadata": {},
   "outputs": [],
   "source": [
    "ER_2 = ER.copy()\n",
    "comps = sorted(list(nx.connected_components(ER_2)), key = len, reverse=True)\n",
    "print(f'Giant component size = {len(comps[0])/n}')"
   ]
  },
  {
   "cell_type": "code",
   "execution_count": null,
   "metadata": {},
   "outputs": [],
   "source": [
    "comps_sizes_counts = Counter([len(x) for x in  comps])\n",
    "plt.loglog(list(comps_sizes_counts.keys()), \n",
    "           list(comps_sizes_counts.values()), ls='None', marker='.')\n",
    "plt.xlabel('CC size')\n",
    "plt.ylabel('Counts')\n",
    "plt.title('CC sizes distribution')"
   ]
  },
  {
   "cell_type": "code",
   "execution_count": null,
   "metadata": {},
   "outputs": [],
   "source": [
    "nodes = list(ER_2.nodes)\n",
    "p_remove = 0.5\n",
    "for node in nodes:\n",
    "    if random.random() < p_remove:\n",
    "        ER_2.remove_node(node)\n",
    "comps = list(nx.connected_components(ER_2))\n",
    "comps = sorted(comps, key = len, reverse=True)\n",
    "n = len(ER_2.nodes)\n",
    "print(f'n = {n} || giant component size = {len(comps[0])/n}')"
   ]
  },
  {
   "cell_type": "code",
   "execution_count": null,
   "metadata": {},
   "outputs": [],
   "source": [
    "ER_2 = ER.copy()\n",
    "degrees = dict(ER_2.degree)\n",
    "degrees = sorted(degrees.items(), key = lambda x:x[1], reverse=True)\n",
    "n = len(ER_2.nodes)\n",
    "c_list = []\n",
    "comp_size = []\n",
    "i = 0\n",
    "for node,_ in degrees[:2000]:\n",
    "    i += 1\n",
    "    ER_2.remove_node(node)\n",
    "    if i%100 == 0:\n",
    "#         print(i)\n",
    "        comps = list(nx.connected_components(ER_2))\n",
    "        comps = sorted(comps, key = len, reverse=True)\n",
    "        c_list.append(i/n)\n",
    "        comp_size.append(len(comps[0])/len(ER_2.nodes))"
   ]
  },
  {
   "cell_type": "code",
   "execution_count": null,
   "metadata": {},
   "outputs": [],
   "source": [
    "plt.plot(c_list,comp_size)"
   ]
  },
  {
   "cell_type": "code",
   "execution_count": null,
   "metadata": {},
   "outputs": [],
   "source": []
  }
 ],
 "metadata": {
  "kernelspec": {
   "display_name": "Python 3",
   "language": "python",
   "name": "python3"
  },
  "language_info": {
   "codemirror_mode": {
    "name": "ipython",
    "version": 3
   },
   "file_extension": ".py",
   "mimetype": "text/x-python",
   "name": "python",
   "nbconvert_exporter": "python",
   "pygments_lexer": "ipython3",
   "version": "3.8.5"
  }
 },
 "nbformat": 4,
 "nbformat_minor": 4
}
